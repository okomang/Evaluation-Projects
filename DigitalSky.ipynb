{
 "cells": [
  {
   "cell_type": "code",
   "execution_count": 1,
   "metadata": {},
   "outputs": [],
   "source": [
    "import pandas as pd\n",
    "import numpy as np"
   ]
  },
  {
   "cell_type": "code",
   "execution_count": 2,
   "metadata": {},
   "outputs": [],
   "source": [
    "a=pd.read_csv('DigitalSky.csv')"
   ]
  },
  {
   "cell_type": "code",
   "execution_count": 3,
   "metadata": {},
   "outputs": [
    {
     "data": {
      "text/html": [
       "<div>\n",
       "<style scoped>\n",
       "    .dataframe tbody tr th:only-of-type {\n",
       "        vertical-align: middle;\n",
       "    }\n",
       "\n",
       "    .dataframe tbody tr th {\n",
       "        vertical-align: top;\n",
       "    }\n",
       "\n",
       "    .dataframe thead th {\n",
       "        text-align: right;\n",
       "    }\n",
       "</style>\n",
       "<table border=\"1\" class=\"dataframe\">\n",
       "  <thead>\n",
       "    <tr style=\"text-align: right;\">\n",
       "      <th></th>\n",
       "      <th>objid</th>\n",
       "      <th>ra</th>\n",
       "      <th>dec</th>\n",
       "      <th>u</th>\n",
       "      <th>g</th>\n",
       "      <th>r</th>\n",
       "      <th>i</th>\n",
       "      <th>z</th>\n",
       "      <th>run</th>\n",
       "      <th>rerun</th>\n",
       "      <th>camcol</th>\n",
       "      <th>field</th>\n",
       "      <th>specobjid</th>\n",
       "      <th>class</th>\n",
       "      <th>redshift</th>\n",
       "      <th>plate</th>\n",
       "      <th>mjd</th>\n",
       "      <th>fiberid</th>\n",
       "    </tr>\n",
       "  </thead>\n",
       "  <tbody>\n",
       "    <tr>\n",
       "      <th>0</th>\n",
       "      <td>1.237650e+18</td>\n",
       "      <td>183.531326</td>\n",
       "      <td>0.089693</td>\n",
       "      <td>19.47406</td>\n",
       "      <td>17.04240</td>\n",
       "      <td>15.94699</td>\n",
       "      <td>15.50342</td>\n",
       "      <td>15.22531</td>\n",
       "      <td>752</td>\n",
       "      <td>301</td>\n",
       "      <td>4</td>\n",
       "      <td>267</td>\n",
       "      <td>3.722360e+18</td>\n",
       "      <td>STAR</td>\n",
       "      <td>-0.000009</td>\n",
       "      <td>3306</td>\n",
       "      <td>54922</td>\n",
       "      <td>491</td>\n",
       "    </tr>\n",
       "    <tr>\n",
       "      <th>1</th>\n",
       "      <td>1.237650e+18</td>\n",
       "      <td>183.598371</td>\n",
       "      <td>0.135285</td>\n",
       "      <td>18.66280</td>\n",
       "      <td>17.21449</td>\n",
       "      <td>16.67637</td>\n",
       "      <td>16.48922</td>\n",
       "      <td>16.39150</td>\n",
       "      <td>752</td>\n",
       "      <td>301</td>\n",
       "      <td>4</td>\n",
       "      <td>267</td>\n",
       "      <td>3.638140e+17</td>\n",
       "      <td>STAR</td>\n",
       "      <td>-0.000055</td>\n",
       "      <td>323</td>\n",
       "      <td>51615</td>\n",
       "      <td>541</td>\n",
       "    </tr>\n",
       "    <tr>\n",
       "      <th>2</th>\n",
       "      <td>1.237650e+18</td>\n",
       "      <td>183.680207</td>\n",
       "      <td>0.126185</td>\n",
       "      <td>19.38298</td>\n",
       "      <td>18.19169</td>\n",
       "      <td>17.47428</td>\n",
       "      <td>17.08732</td>\n",
       "      <td>16.80125</td>\n",
       "      <td>752</td>\n",
       "      <td>301</td>\n",
       "      <td>4</td>\n",
       "      <td>268</td>\n",
       "      <td>3.232740e+17</td>\n",
       "      <td>GALAXY</td>\n",
       "      <td>0.123111</td>\n",
       "      <td>287</td>\n",
       "      <td>52023</td>\n",
       "      <td>513</td>\n",
       "    </tr>\n",
       "    <tr>\n",
       "      <th>3</th>\n",
       "      <td>1.237650e+18</td>\n",
       "      <td>183.870529</td>\n",
       "      <td>0.049911</td>\n",
       "      <td>17.76536</td>\n",
       "      <td>16.60272</td>\n",
       "      <td>16.16116</td>\n",
       "      <td>15.98233</td>\n",
       "      <td>15.90438</td>\n",
       "      <td>752</td>\n",
       "      <td>301</td>\n",
       "      <td>4</td>\n",
       "      <td>269</td>\n",
       "      <td>3.722370e+18</td>\n",
       "      <td>STAR</td>\n",
       "      <td>-0.000111</td>\n",
       "      <td>3306</td>\n",
       "      <td>54922</td>\n",
       "      <td>510</td>\n",
       "    </tr>\n",
       "    <tr>\n",
       "      <th>4</th>\n",
       "      <td>1.237650e+18</td>\n",
       "      <td>183.883288</td>\n",
       "      <td>0.102557</td>\n",
       "      <td>17.55025</td>\n",
       "      <td>16.26342</td>\n",
       "      <td>16.43869</td>\n",
       "      <td>16.55492</td>\n",
       "      <td>16.61326</td>\n",
       "      <td>752</td>\n",
       "      <td>301</td>\n",
       "      <td>4</td>\n",
       "      <td>269</td>\n",
       "      <td>3.722370e+18</td>\n",
       "      <td>STAR</td>\n",
       "      <td>0.000590</td>\n",
       "      <td>3306</td>\n",
       "      <td>54922</td>\n",
       "      <td>512</td>\n",
       "    </tr>\n",
       "    <tr>\n",
       "      <th>...</th>\n",
       "      <td>...</td>\n",
       "      <td>...</td>\n",
       "      <td>...</td>\n",
       "      <td>...</td>\n",
       "      <td>...</td>\n",
       "      <td>...</td>\n",
       "      <td>...</td>\n",
       "      <td>...</td>\n",
       "      <td>...</td>\n",
       "      <td>...</td>\n",
       "      <td>...</td>\n",
       "      <td>...</td>\n",
       "      <td>...</td>\n",
       "      <td>...</td>\n",
       "      <td>...</td>\n",
       "      <td>...</td>\n",
       "      <td>...</td>\n",
       "      <td>...</td>\n",
       "    </tr>\n",
       "    <tr>\n",
       "      <th>9995</th>\n",
       "      <td>1.237650e+18</td>\n",
       "      <td>131.316413</td>\n",
       "      <td>51.539547</td>\n",
       "      <td>18.81777</td>\n",
       "      <td>17.47053</td>\n",
       "      <td>16.91508</td>\n",
       "      <td>16.68305</td>\n",
       "      <td>16.50570</td>\n",
       "      <td>1345</td>\n",
       "      <td>301</td>\n",
       "      <td>3</td>\n",
       "      <td>161</td>\n",
       "      <td>5.033450e+17</td>\n",
       "      <td>GALAXY</td>\n",
       "      <td>0.027583</td>\n",
       "      <td>447</td>\n",
       "      <td>51877</td>\n",
       "      <td>246</td>\n",
       "    </tr>\n",
       "    <tr>\n",
       "      <th>9996</th>\n",
       "      <td>1.237650e+18</td>\n",
       "      <td>131.306083</td>\n",
       "      <td>51.671341</td>\n",
       "      <td>18.27255</td>\n",
       "      <td>17.43849</td>\n",
       "      <td>17.07692</td>\n",
       "      <td>16.71661</td>\n",
       "      <td>16.69897</td>\n",
       "      <td>1345</td>\n",
       "      <td>301</td>\n",
       "      <td>3</td>\n",
       "      <td>162</td>\n",
       "      <td>5.033400e+17</td>\n",
       "      <td>GALAXY</td>\n",
       "      <td>0.117772</td>\n",
       "      <td>447</td>\n",
       "      <td>51877</td>\n",
       "      <td>228</td>\n",
       "    </tr>\n",
       "    <tr>\n",
       "      <th>9997</th>\n",
       "      <td>1.237650e+18</td>\n",
       "      <td>131.552562</td>\n",
       "      <td>51.666986</td>\n",
       "      <td>18.75818</td>\n",
       "      <td>17.77784</td>\n",
       "      <td>17.51872</td>\n",
       "      <td>17.43302</td>\n",
       "      <td>17.42048</td>\n",
       "      <td>1345</td>\n",
       "      <td>301</td>\n",
       "      <td>3</td>\n",
       "      <td>162</td>\n",
       "      <td>8.222620e+18</td>\n",
       "      <td>STAR</td>\n",
       "      <td>-0.000402</td>\n",
       "      <td>7303</td>\n",
       "      <td>57013</td>\n",
       "      <td>622</td>\n",
       "    </tr>\n",
       "    <tr>\n",
       "      <th>9998</th>\n",
       "      <td>1.237650e+18</td>\n",
       "      <td>131.477151</td>\n",
       "      <td>51.753068</td>\n",
       "      <td>18.88287</td>\n",
       "      <td>17.91068</td>\n",
       "      <td>17.53152</td>\n",
       "      <td>17.36284</td>\n",
       "      <td>17.13988</td>\n",
       "      <td>1345</td>\n",
       "      <td>301</td>\n",
       "      <td>3</td>\n",
       "      <td>163</td>\n",
       "      <td>5.033400e+17</td>\n",
       "      <td>GALAXY</td>\n",
       "      <td>0.014019</td>\n",
       "      <td>447</td>\n",
       "      <td>51877</td>\n",
       "      <td>229</td>\n",
       "    </tr>\n",
       "    <tr>\n",
       "      <th>9999</th>\n",
       "      <td>1.237650e+18</td>\n",
       "      <td>131.665012</td>\n",
       "      <td>51.805307</td>\n",
       "      <td>19.27586</td>\n",
       "      <td>17.37829</td>\n",
       "      <td>16.30542</td>\n",
       "      <td>15.83548</td>\n",
       "      <td>15.50588</td>\n",
       "      <td>1345</td>\n",
       "      <td>301</td>\n",
       "      <td>3</td>\n",
       "      <td>163</td>\n",
       "      <td>5.033410e+17</td>\n",
       "      <td>GALAXY</td>\n",
       "      <td>0.118417</td>\n",
       "      <td>447</td>\n",
       "      <td>51877</td>\n",
       "      <td>233</td>\n",
       "    </tr>\n",
       "  </tbody>\n",
       "</table>\n",
       "<p>10000 rows × 18 columns</p>\n",
       "</div>"
      ],
      "text/plain": [
       "             objid          ra        dec         u         g         r  \\\n",
       "0     1.237650e+18  183.531326   0.089693  19.47406  17.04240  15.94699   \n",
       "1     1.237650e+18  183.598371   0.135285  18.66280  17.21449  16.67637   \n",
       "2     1.237650e+18  183.680207   0.126185  19.38298  18.19169  17.47428   \n",
       "3     1.237650e+18  183.870529   0.049911  17.76536  16.60272  16.16116   \n",
       "4     1.237650e+18  183.883288   0.102557  17.55025  16.26342  16.43869   \n",
       "...            ...         ...        ...       ...       ...       ...   \n",
       "9995  1.237650e+18  131.316413  51.539547  18.81777  17.47053  16.91508   \n",
       "9996  1.237650e+18  131.306083  51.671341  18.27255  17.43849  17.07692   \n",
       "9997  1.237650e+18  131.552562  51.666986  18.75818  17.77784  17.51872   \n",
       "9998  1.237650e+18  131.477151  51.753068  18.88287  17.91068  17.53152   \n",
       "9999  1.237650e+18  131.665012  51.805307  19.27586  17.37829  16.30542   \n",
       "\n",
       "             i         z   run  rerun  camcol  field     specobjid   class  \\\n",
       "0     15.50342  15.22531   752    301       4    267  3.722360e+18    STAR   \n",
       "1     16.48922  16.39150   752    301       4    267  3.638140e+17    STAR   \n",
       "2     17.08732  16.80125   752    301       4    268  3.232740e+17  GALAXY   \n",
       "3     15.98233  15.90438   752    301       4    269  3.722370e+18    STAR   \n",
       "4     16.55492  16.61326   752    301       4    269  3.722370e+18    STAR   \n",
       "...        ...       ...   ...    ...     ...    ...           ...     ...   \n",
       "9995  16.68305  16.50570  1345    301       3    161  5.033450e+17  GALAXY   \n",
       "9996  16.71661  16.69897  1345    301       3    162  5.033400e+17  GALAXY   \n",
       "9997  17.43302  17.42048  1345    301       3    162  8.222620e+18    STAR   \n",
       "9998  17.36284  17.13988  1345    301       3    163  5.033400e+17  GALAXY   \n",
       "9999  15.83548  15.50588  1345    301       3    163  5.033410e+17  GALAXY   \n",
       "\n",
       "      redshift  plate    mjd  fiberid  \n",
       "0    -0.000009   3306  54922      491  \n",
       "1    -0.000055    323  51615      541  \n",
       "2     0.123111    287  52023      513  \n",
       "3    -0.000111   3306  54922      510  \n",
       "4     0.000590   3306  54922      512  \n",
       "...        ...    ...    ...      ...  \n",
       "9995  0.027583    447  51877      246  \n",
       "9996  0.117772    447  51877      228  \n",
       "9997 -0.000402   7303  57013      622  \n",
       "9998  0.014019    447  51877      229  \n",
       "9999  0.118417    447  51877      233  \n",
       "\n",
       "[10000 rows x 18 columns]"
      ]
     },
     "execution_count": 3,
     "metadata": {},
     "output_type": "execute_result"
    }
   ],
   "source": [
    "a"
   ]
  },
  {
   "cell_type": "code",
   "execution_count": 4,
   "metadata": {},
   "outputs": [],
   "source": [
    "import seaborn as sb\n",
    "import matplotlib.pyplot as plt"
   ]
  },
  {
   "cell_type": "code",
   "execution_count": 5,
   "metadata": {},
   "outputs": [
    {
     "data": {
      "text/plain": [
       "1.237650e+18    10000\n",
       "Name: objid, dtype: int64"
      ]
     },
     "execution_count": 5,
     "metadata": {},
     "output_type": "execute_result"
    }
   ],
   "source": [
    "a['objid'].value_counts()"
   ]
  },
  {
   "cell_type": "code",
   "execution_count": 6,
   "metadata": {},
   "outputs": [],
   "source": [
    "#Dropping Object id\n",
    "#Dropping spaceobjid as that is also irrelevant data and too large a value\n",
    "a.drop('objid',inplace=True,axis=1)\n",
    "a.drop('specobjid',axis=1,inplace=True)"
   ]
  },
  {
   "cell_type": "code",
   "execution_count": 7,
   "metadata": {},
   "outputs": [
    {
     "data": {
      "text/plain": [
       "226.511352    1\n",
       "186.864198    1\n",
       "162.412783    1\n",
       "242.416598    1\n",
       "25.765495     1\n",
       "             ..\n",
       "218.427367    1\n",
       "179.365032    1\n",
       "187.113033    1\n",
       "235.913493    1\n",
       "182.372733    1\n",
       "Name: ra, Length: 10000, dtype: int64"
      ]
     },
     "execution_count": 7,
     "metadata": {},
     "output_type": "execute_result"
    }
   ],
   "source": [
    "a['ra'].value_counts()"
   ]
  },
  {
   "cell_type": "code",
   "execution_count": 8,
   "metadata": {},
   "outputs": [
    {
     "data": {
      "text/plain": [
       "756     3060\n",
       "752     2086\n",
       "1345     915\n",
       "1350     540\n",
       "1140     527\n",
       "745      453\n",
       "1035     396\n",
       "1412     347\n",
       "1302     246\n",
       "1331     245\n",
       "1231     245\n",
       "1334     212\n",
       "1239     197\n",
       "1336     182\n",
       "1404     137\n",
       "1045     112\n",
       "1402      49\n",
       "308       31\n",
       "1411      10\n",
       "1356       4\n",
       "727        4\n",
       "1119       1\n",
       "1332       1\n",
       "Name: run, dtype: int64"
      ]
     },
     "execution_count": 8,
     "metadata": {},
     "output_type": "execute_result"
    }
   ],
   "source": [
    "a['run'].value_counts()"
   ]
  },
  {
   "cell_type": "code",
   "execution_count": 9,
   "metadata": {},
   "outputs": [],
   "source": [
    "b=a.head(1000)"
   ]
  },
  {
   "cell_type": "code",
   "execution_count": 10,
   "metadata": {},
   "outputs": [
    {
     "data": {
      "text/plain": [
       "<matplotlib.axes._subplots.AxesSubplot at 0x1edf4236a90>"
      ]
     },
     "execution_count": 10,
     "metadata": {},
     "output_type": "execute_result"
    },
    {
     "data": {
      "image/png": "[encoded data removed]",
      "text/plain": [
       "<Figure size 432x288 with 1 Axes>"
      ]
     },
     "metadata": {
      "needs_background": "light"
     },
     "output_type": "display_data"
    }
   ],
   "source": [
    "sb.countplot(x='run',hue='class',data=b)"
   ]
  },
  {
   "cell_type": "markdown",
   "metadata": {},
   "source": [
    "Most of the classes have run 752 or 756 out of which the star class has most 752 runs on the same hand there is no star class in run 727"
   ]
  },
  {
   "cell_type": "code",
   "execution_count": 11,
   "metadata": {},
   "outputs": [
    {
     "data": {
      "text/plain": [
       "<matplotlib.axes._subplots.AxesSubplot at 0x1edf496a130>"
      ]
     },
     "execution_count": 11,
     "metadata": {},
     "output_type": "execute_result"
    },
    {
     "data": {
      "image/png": "[encoded data removed]",
      "text/plain": [
       "<Figure size 432x288 with 1 Axes>"
      ]
     },
     "metadata": {
      "needs_background": "light"
     },
     "output_type": "display_data"
    }
   ],
   "source": [
    "sb.countplot(x='rerun',hue='class',data=b)"
   ]
  },
  {
   "cell_type": "markdown",
   "metadata": {},
   "source": [
    "Rerun has a constant value of 301 and most are stars"
   ]
  },
  {
   "cell_type": "code",
   "execution_count": 12,
   "metadata": {},
   "outputs": [
    {
     "data": {
      "text/plain": [
       "<matplotlib.axes._subplots.AxesSubplot at 0x1edf4a1f0a0>"
      ]
     },
     "execution_count": 12,
     "metadata": {},
     "output_type": "execute_result"
    },
    {
     "data": {
      "image/png": "[encoded data removed]",
      "text/plain": [
       "<Figure size 432x288 with 1 Axes>"
      ]
     },
     "metadata": {
      "needs_background": "light"
     },
     "output_type": "display_data"
    }
   ],
   "source": [
    "sb.countplot(x='camcol',hue='class',data=b)"
   ]
  },
  {
   "cell_type": "markdown",
   "metadata": {},
   "source": [
    "Camcol 2 has the highest number of stars and galaxy while camcol 6 has no QSO"
   ]
  },
  {
   "cell_type": "code",
   "execution_count": 13,
   "metadata": {},
   "outputs": [
    {
     "data": {
      "text/plain": [
       "<seaborn.axisgrid.FacetGrid at 0x1edf4aa6370>"
      ]
     },
     "execution_count": 13,
     "metadata": {},
     "output_type": "execute_result"
    },
    {
     "data": {
      "image/png": "[encoded data removed]",
      "text/plain": [
       "<Figure size 360x360 with 1 Axes>"
      ]
     },
     "metadata": {
      "needs_background": "light"
     },
     "output_type": "display_data"
    }
   ],
   "source": [
    "sb.catplot(x='field',y='class',data=b)"
   ]
  },
  {
   "cell_type": "markdown",
   "metadata": {},
   "source": [
    "When the fields are less on star class is present. Most the the classes falls in field range 200-300"
   ]
  },
  {
   "cell_type": "code",
   "execution_count": 14,
   "metadata": {},
   "outputs": [
    {
     "data": {
      "text/plain": [
       "GALAXY    4998\n",
       "STAR      4152\n",
       "QSO        850\n",
       "Name: class, dtype: int64"
      ]
     },
     "execution_count": 14,
     "metadata": {},
     "output_type": "execute_result"
    }
   ],
   "source": [
    "a['class'].value_counts()"
   ]
  },
  {
   "cell_type": "code",
   "execution_count": 15,
   "metadata": {},
   "outputs": [
    {
     "data": {
      "text/plain": [
       "<matplotlib.axes._subplots.AxesSubplot at 0x1edf4b553a0>"
      ]
     },
     "execution_count": 15,
     "metadata": {},
     "output_type": "execute_result"
    },
    {
     "data": {
      "image/png": "[encoded data removed]",
      "text/plain": [
       "<Figure size 432x288 with 1 Axes>"
      ]
     },
     "metadata": {
      "needs_background": "light"
     },
     "output_type": "display_data"
    }
   ],
   "source": [
    "sb.scatterplot(x='ra',y='dec',data=b)"
   ]
  },
  {
   "cell_type": "markdown",
   "metadata": {},
   "source": [
    "When ra was less dec was more, at ra ranging 110-130 dec is positive while at ra 160-250 many dec values are negative"
   ]
  },
  {
   "cell_type": "code",
   "execution_count": 16,
   "metadata": {},
   "outputs": [
    {
     "data": {
      "text/plain": [
       "<matplotlib.axes._subplots.AxesSubplot at 0x1edf4b9df10>"
      ]
     },
     "execution_count": 16,
     "metadata": {},
     "output_type": "execute_result"
    },
    {
     "data": {
      "image/png": "[encoded data removed]",
      "text/plain": [
       "<Figure size 432x288 with 1 Axes>"
      ]
     },
     "metadata": {
      "needs_background": "light"
     },
     "output_type": "display_data"
    }
   ],
   "source": [
    "sb.scatterplot(x='u',y='class',data=b)"
   ]
  },
  {
   "cell_type": "markdown",
   "metadata": {},
   "source": [
    "When value of u is lower than 16 mostly star class exists as the u reaches 17.5 all the three classes come into existence"
   ]
  },
  {
   "cell_type": "code",
   "execution_count": 17,
   "metadata": {},
   "outputs": [
    {
     "data": {
      "text/plain": [
       "<matplotlib.axes._subplots.AxesSubplot at 0x1edf4bdb220>"
      ]
     },
     "execution_count": 17,
     "metadata": {},
     "output_type": "execute_result"
    },
    {
     "data": {
      "image/png": "[encoded data removed]",
      "text/plain": [
       "<Figure size 432x288 with 1 Axes>"
      ]
     },
     "metadata": {
      "needs_background": "light"
     },
     "output_type": "display_data"
    }
   ],
   "source": [
    "sb.scatterplot(x='g',y='class',data=b)"
   ]
  },
  {
   "cell_type": "markdown",
   "metadata": {},
   "source": [
    "At g lower than 15 few galaxy class are present but many stars are present \n",
    "Most of QSO class lies in g range 17.5-19.5"
   ]
  },
  {
   "cell_type": "code",
   "execution_count": 18,
   "metadata": {},
   "outputs": [
    {
     "data": {
      "text/plain": [
       "<matplotlib.axes._subplots.AxesSubplot at 0x1edf4c29bb0>"
      ]
     },
     "execution_count": 18,
     "metadata": {},
     "output_type": "execute_result"
    },
    {
     "data": {
      "image/png": "[encoded data removed]",
      "text/plain": [
       "<Figure size 432x288 with 1 Axes>"
      ]
     },
     "metadata": {
      "needs_background": "light"
     },
     "output_type": "display_data"
    }
   ],
   "source": [
    "sb.scatterplot(x='r',y='class',data=b)"
   ]
  },
  {
   "cell_type": "markdown",
   "metadata": {},
   "source": [
    "When the r value is less than 15.5 there are no QSO class below 14 and above 18.5 r there are jsut few galaxies"
   ]
  },
  {
   "cell_type": "code",
   "execution_count": 19,
   "metadata": {},
   "outputs": [
    {
     "data": {
      "text/plain": [
       "<matplotlib.axes._subplots.AxesSubplot at 0x1edf4c5d3d0>"
      ]
     },
     "execution_count": 19,
     "metadata": {},
     "output_type": "execute_result"
    },
    {
     "data": {
      "image/png": "[encoded data removed]",
      "text/plain": [
       "<Figure size 432x288 with 1 Axes>"
      ]
     },
     "metadata": {
      "needs_background": "light"
     },
     "output_type": "display_data"
    }
   ],
   "source": [
    "sb.swarmplot(x='i',y='class',data=b)"
   ]
  },
  {
   "cell_type": "markdown",
   "metadata": {},
   "source": [
    "QSO mostly exists when the i range is between 17.5-18.5"
   ]
  },
  {
   "cell_type": "code",
   "execution_count": 20,
   "metadata": {},
   "outputs": [
    {
     "data": {
      "text/plain": [
       "<matplotlib.axes._subplots.AxesSubplot at 0x1edf4ccf100>"
      ]
     },
     "execution_count": 20,
     "metadata": {},
     "output_type": "execute_result"
    },
    {
     "data": {
      "image/png": "[encoded data removed]",
      "text/plain": [
       "<Figure size 432x288 with 1 Axes>"
      ]
     },
     "metadata": {
      "needs_background": "light"
     },
     "output_type": "display_data"
    }
   ],
   "source": [
    "sb.swarmplot(x='z',y='class',data=b)"
   ]
  },
  {
   "cell_type": "code",
   "execution_count": 21,
   "metadata": {},
   "outputs": [
    {
     "data": {
      "text/plain": [
       "<matplotlib.axes._subplots.AxesSubplot at 0x1edf4d20d60>"
      ]
     },
     "execution_count": 21,
     "metadata": {},
     "output_type": "execute_result"
    },
    {
     "data": {
      "image/png": "[encoded data removed]",
      "text/plain": [
       "<Figure size 432x288 with 1 Axes>"
      ]
     },
     "metadata": {
      "needs_background": "light"
     },
     "output_type": "display_data"
    }
   ],
   "source": [
    "sb.violinplot(x='ra',y='class',data=b)"
   ]
  },
  {
   "cell_type": "markdown",
   "metadata": {},
   "source": [
    "Most of the three classes exists when the ra range is between 100-280.At maximum and minimum ra range only QSO exists."
   ]
  },
  {
   "cell_type": "code",
   "execution_count": 22,
   "metadata": {},
   "outputs": [
    {
     "data": {
      "text/plain": [
       "<matplotlib.axes._subplots.AxesSubplot at 0x1edf4aaa7c0>"
      ]
     },
     "execution_count": 22,
     "metadata": {},
     "output_type": "execute_result"
    },
    {
     "data": {
      "image/png": "[encoded data removed]",
      "text/plain": [
       "<Figure size 432x288 with 1 Axes>"
      ]
     },
     "metadata": {
      "needs_background": "light"
     },
     "output_type": "display_data"
    }
   ],
   "source": [
    "sb.violinplot(x='dec',y='class',data=b)"
   ]
  },
  {
   "cell_type": "markdown",
   "metadata": {},
   "source": [
    "At least dec range QSO exists while most of other classes exist when dec range is from -1 to 1. Maximum of all three class exist at dec 0."
   ]
  },
  {
   "cell_type": "code",
   "execution_count": 23,
   "metadata": {},
   "outputs": [
    {
     "data": {
      "text/plain": [
       "<matplotlib.axes._subplots.AxesSubplot at 0x1edf4b8a7f0>"
      ]
     },
     "execution_count": 23,
     "metadata": {},
     "output_type": "execute_result"
    },
    {
     "data": {
      "image/png": "[encoded data removed]",
      "text/plain": [
       "<Figure size 432x288 with 1 Axes>"
      ]
     },
     "metadata": {
      "needs_background": "light"
     },
     "output_type": "display_data"
    }
   ],
   "source": [
    "sb.swarmplot(x='redshift',y='class',data=b)"
   ]
  },
  {
   "cell_type": "markdown",
   "metadata": {},
   "source": [
    "When red shift is 0 only stars exist as the value increases ther =e are no stars and a lot of galaxies exists as the red shift keeps increasing only QSO exists."
   ]
  },
  {
   "cell_type": "code",
   "execution_count": 24,
   "metadata": {},
   "outputs": [
    {
     "data": {
      "text/plain": [
       "<matplotlib.axes._subplots.AxesSubplot at 0x1edf4e23520>"
      ]
     },
     "execution_count": 24,
     "metadata": {},
     "output_type": "execute_result"
    },
    {
     "data": {
      "image/png": "[encoded data removed]",
      "text/plain": [
       "<Figure size 432x288 with 1 Axes>"
      ]
     },
     "metadata": {
      "needs_background": "light"
     },
     "output_type": "display_data"
    }
   ],
   "source": [
    "sb.violinplot(x='plate',y='class',data=b)"
   ]
  },
  {
   "cell_type": "markdown",
   "metadata": {},
   "source": [
    "Galaxies exists when plate range is between 0-400 a few QSO and stars exists when plates are negative. At max range of plates which is 8000 only stars exists. "
   ]
  },
  {
   "cell_type": "code",
   "execution_count": 25,
   "metadata": {},
   "outputs": [
    {
     "data": {
      "text/plain": [
       "<matplotlib.axes._subplots.AxesSubplot at 0x1edf5e68610>"
      ]
     },
     "execution_count": 25,
     "metadata": {},
     "output_type": "execute_result"
    },
    {
     "data": {
      "image/png": "[encoded data removed]",
      "text/plain": [
       "<Figure size 432x288 with 1 Axes>"
      ]
     },
     "metadata": {
      "needs_background": "light"
     },
     "output_type": "display_data"
    }
   ],
   "source": [
    "sb.violinplot(x='mjd',y='class',data=b)"
   ]
  },
  {
   "cell_type": "markdown",
   "metadata": {},
   "source": [
    "Most of galaxies exists in range of mjd 51.5- 52k. Most of stars in range 54-55k.Only QSO exists below mjd 51k and only stars exists at renage beyond mjd 57k."
   ]
  },
  {
   "cell_type": "code",
   "execution_count": 26,
   "metadata": {},
   "outputs": [
    {
     "data": {
      "text/plain": [
       "<matplotlib.axes._subplots.AxesSubplot at 0x1edf5eccd60>"
      ]
     },
     "execution_count": 26,
     "metadata": {},
     "output_type": "execute_result"
    },
    {
     "data": {
      "image/png": "[encoded data removed]",
      "text/plain": [
       "<Figure size 432x288 with 1 Axes>"
      ]
     },
     "metadata": {
      "needs_background": "light"
     },
     "output_type": "display_data"
    }
   ],
   "source": [
    "sb.swarmplot(x='fiberid',y='class',data=b)"
   ]
  },
  {
   "cell_type": "markdown",
   "metadata": {},
   "source": [
    "All the three classes exists in range 0-600 of fiberid. At maximum fiberid only stars exists."
   ]
  },
  {
   "cell_type": "code",
   "execution_count": 27,
   "metadata": {},
   "outputs": [
    {
     "data": {
      "text/plain": [
       "<matplotlib.axes._subplots.AxesSubplot at 0x1edf5f194c0>"
      ]
     },
     "execution_count": 27,
     "metadata": {},
     "output_type": "execute_result"
    },
    {
     "data": {
      "image/png": "[encoded data removed]",
      "text/plain": [
       "<Figure size 432x288 with 1 Axes>"
      ]
     },
     "metadata": {
      "needs_background": "light"
     },
     "output_type": "display_data"
    }
   ],
   "source": [
    "sb.countplot(a['class'])"
   ]
  },
  {
   "cell_type": "markdown",
   "metadata": {},
   "source": [
    "The maximum number of class is Galaxy"
   ]
  },
  {
   "cell_type": "code",
   "execution_count": 28,
   "metadata": {},
   "outputs": [
    {
     "data": {
      "text/html": [
       "<div>\n",
       "<style scoped>\n",
       "    .dataframe tbody tr th:only-of-type {\n",
       "        vertical-align: middle;\n",
       "    }\n",
       "\n",
       "    .dataframe tbody tr th {\n",
       "        vertical-align: top;\n",
       "    }\n",
       "\n",
       "    .dataframe thead th {\n",
       "        text-align: right;\n",
       "    }\n",
       "</style>\n",
       "<table border=\"1\" class=\"dataframe\">\n",
       "  <thead>\n",
       "    <tr style=\"text-align: right;\">\n",
       "      <th></th>\n",
       "      <th>ra</th>\n",
       "      <th>dec</th>\n",
       "      <th>u</th>\n",
       "      <th>g</th>\n",
       "      <th>r</th>\n",
       "      <th>i</th>\n",
       "      <th>z</th>\n",
       "      <th>run</th>\n",
       "      <th>rerun</th>\n",
       "      <th>camcol</th>\n",
       "      <th>field</th>\n",
       "      <th>redshift</th>\n",
       "      <th>plate</th>\n",
       "      <th>mjd</th>\n",
       "      <th>fiberid</th>\n",
       "    </tr>\n",
       "  </thead>\n",
       "  <tbody>\n",
       "    <tr>\n",
       "      <th>ra</th>\n",
       "      <td>1.000000</td>\n",
       "      <td>0.003596</td>\n",
       "      <td>0.031238</td>\n",
       "      <td>0.043909</td>\n",
       "      <td>0.047103</td>\n",
       "      <td>0.045731</td>\n",
       "      <td>0.042950</td>\n",
       "      <td>-0.092741</td>\n",
       "      <td>NaN</td>\n",
       "      <td>-0.006294</td>\n",
       "      <td>0.594700</td>\n",
       "      <td>0.030307</td>\n",
       "      <td>-0.095329</td>\n",
       "      <td>-0.086887</td>\n",
       "      <td>0.057485</td>\n",
       "    </tr>\n",
       "    <tr>\n",
       "      <th>dec</th>\n",
       "      <td>0.003596</td>\n",
       "      <td>1.000000</td>\n",
       "      <td>0.035279</td>\n",
       "      <td>0.061875</td>\n",
       "      <td>0.063404</td>\n",
       "      <td>0.058292</td>\n",
       "      <td>0.056870</td>\n",
       "      <td>0.778385</td>\n",
       "      <td>NaN</td>\n",
       "      <td>0.114614</td>\n",
       "      <td>-0.131471</td>\n",
       "      <td>0.067021</td>\n",
       "      <td>0.088342</td>\n",
       "      <td>0.066147</td>\n",
       "      <td>0.155012</td>\n",
       "    </tr>\n",
       "    <tr>\n",
       "      <th>u</th>\n",
       "      <td>0.031238</td>\n",
       "      <td>0.035279</td>\n",
       "      <td>1.000000</td>\n",
       "      <td>0.849232</td>\n",
       "      <td>0.692379</td>\n",
       "      <td>0.602630</td>\n",
       "      <td>0.551483</td>\n",
       "      <td>0.038229</td>\n",
       "      <td>NaN</td>\n",
       "      <td>0.009945</td>\n",
       "      <td>0.008548</td>\n",
       "      <td>0.163741</td>\n",
       "      <td>-0.129430</td>\n",
       "      <td>-0.168793</td>\n",
       "      <td>0.011301</td>\n",
       "    </tr>\n",
       "    <tr>\n",
       "      <th>g</th>\n",
       "      <td>0.043909</td>\n",
       "      <td>0.061875</td>\n",
       "      <td>0.849232</td>\n",
       "      <td>1.000000</td>\n",
       "      <td>0.958106</td>\n",
       "      <td>0.907419</td>\n",
       "      <td>0.879622</td>\n",
       "      <td>0.058446</td>\n",
       "      <td>NaN</td>\n",
       "      <td>0.010223</td>\n",
       "      <td>0.014651</td>\n",
       "      <td>0.407576</td>\n",
       "      <td>-0.054981</td>\n",
       "      <td>-0.092772</td>\n",
       "      <td>0.047187</td>\n",
       "    </tr>\n",
       "    <tr>\n",
       "      <th>r</th>\n",
       "      <td>0.047103</td>\n",
       "      <td>0.063404</td>\n",
       "      <td>0.692379</td>\n",
       "      <td>0.958106</td>\n",
       "      <td>1.000000</td>\n",
       "      <td>0.977672</td>\n",
       "      <td>0.969197</td>\n",
       "      <td>0.057261</td>\n",
       "      <td>NaN</td>\n",
       "      <td>0.010747</td>\n",
       "      <td>0.017133</td>\n",
       "      <td>0.441080</td>\n",
       "      <td>0.019787</td>\n",
       "      <td>-0.009345</td>\n",
       "      <td>0.061081</td>\n",
       "    </tr>\n",
       "    <tr>\n",
       "      <th>i</th>\n",
       "      <td>0.045731</td>\n",
       "      <td>0.058292</td>\n",
       "      <td>0.602630</td>\n",
       "      <td>0.907419</td>\n",
       "      <td>0.977672</td>\n",
       "      <td>1.000000</td>\n",
       "      <td>0.981507</td>\n",
       "      <td>0.049765</td>\n",
       "      <td>NaN</td>\n",
       "      <td>0.013461</td>\n",
       "      <td>0.019781</td>\n",
       "      <td>0.431450</td>\n",
       "      <td>0.072958</td>\n",
       "      <td>0.050896</td>\n",
       "      <td>0.069977</td>\n",
       "    </tr>\n",
       "    <tr>\n",
       "      <th>z</th>\n",
       "      <td>0.042950</td>\n",
       "      <td>0.056870</td>\n",
       "      <td>0.551483</td>\n",
       "      <td>0.879622</td>\n",
       "      <td>0.969197</td>\n",
       "      <td>0.981507</td>\n",
       "      <td>1.000000</td>\n",
       "      <td>0.048252</td>\n",
       "      <td>NaN</td>\n",
       "      <td>0.010930</td>\n",
       "      <td>0.018248</td>\n",
       "      <td>0.424034</td>\n",
       "      <td>0.112397</td>\n",
       "      <td>0.095658</td>\n",
       "      <td>0.067980</td>\n",
       "    </tr>\n",
       "    <tr>\n",
       "      <th>run</th>\n",
       "      <td>-0.092741</td>\n",
       "      <td>0.778385</td>\n",
       "      <td>0.038229</td>\n",
       "      <td>0.058446</td>\n",
       "      <td>0.057261</td>\n",
       "      <td>0.049765</td>\n",
       "      <td>0.048252</td>\n",
       "      <td>1.000000</td>\n",
       "      <td>NaN</td>\n",
       "      <td>0.151814</td>\n",
       "      <td>-0.463898</td>\n",
       "      <td>0.059056</td>\n",
       "      <td>0.093601</td>\n",
       "      <td>0.070354</td>\n",
       "      <td>0.138566</td>\n",
       "    </tr>\n",
       "    <tr>\n",
       "      <th>rerun</th>\n",
       "      <td>NaN</td>\n",
       "      <td>NaN</td>\n",
       "      <td>NaN</td>\n",
       "      <td>NaN</td>\n",
       "      <td>NaN</td>\n",
       "      <td>NaN</td>\n",
       "      <td>NaN</td>\n",
       "      <td>NaN</td>\n",
       "      <td>NaN</td>\n",
       "      <td>NaN</td>\n",
       "      <td>NaN</td>\n",
       "      <td>NaN</td>\n",
       "      <td>NaN</td>\n",
       "      <td>NaN</td>\n",
       "      <td>NaN</td>\n",
       "    </tr>\n",
       "    <tr>\n",
       "      <th>camcol</th>\n",
       "      <td>-0.006294</td>\n",
       "      <td>0.114614</td>\n",
       "      <td>0.009945</td>\n",
       "      <td>0.010223</td>\n",
       "      <td>0.010747</td>\n",
       "      <td>0.013461</td>\n",
       "      <td>0.010930</td>\n",
       "      <td>0.151814</td>\n",
       "      <td>NaN</td>\n",
       "      <td>1.000000</td>\n",
       "      <td>-0.067921</td>\n",
       "      <td>0.006834</td>\n",
       "      <td>0.040795</td>\n",
       "      <td>0.026284</td>\n",
       "      <td>0.535629</td>\n",
       "    </tr>\n",
       "    <tr>\n",
       "      <th>field</th>\n",
       "      <td>0.594700</td>\n",
       "      <td>-0.131471</td>\n",
       "      <td>0.008548</td>\n",
       "      <td>0.014651</td>\n",
       "      <td>0.017133</td>\n",
       "      <td>0.019781</td>\n",
       "      <td>0.018248</td>\n",
       "      <td>-0.463898</td>\n",
       "      <td>NaN</td>\n",
       "      <td>-0.067921</td>\n",
       "      <td>1.000000</td>\n",
       "      <td>0.015414</td>\n",
       "      <td>-0.093723</td>\n",
       "      <td>-0.086558</td>\n",
       "      <td>-0.040493</td>\n",
       "    </tr>\n",
       "    <tr>\n",
       "      <th>redshift</th>\n",
       "      <td>0.030307</td>\n",
       "      <td>0.067021</td>\n",
       "      <td>0.163741</td>\n",
       "      <td>0.407576</td>\n",
       "      <td>0.441080</td>\n",
       "      <td>0.431450</td>\n",
       "      <td>0.424034</td>\n",
       "      <td>0.059056</td>\n",
       "      <td>NaN</td>\n",
       "      <td>0.006834</td>\n",
       "      <td>0.015414</td>\n",
       "      <td>1.000000</td>\n",
       "      <td>-0.038091</td>\n",
       "      <td>-0.057957</td>\n",
       "      <td>0.046532</td>\n",
       "    </tr>\n",
       "    <tr>\n",
       "      <th>plate</th>\n",
       "      <td>-0.095329</td>\n",
       "      <td>0.088342</td>\n",
       "      <td>-0.129430</td>\n",
       "      <td>-0.054981</td>\n",
       "      <td>0.019787</td>\n",
       "      <td>0.072958</td>\n",
       "      <td>0.112397</td>\n",
       "      <td>0.093601</td>\n",
       "      <td>NaN</td>\n",
       "      <td>0.040795</td>\n",
       "      <td>-0.093723</td>\n",
       "      <td>-0.038091</td>\n",
       "      <td>1.000000</td>\n",
       "      <td>0.966881</td>\n",
       "      <td>0.229811</td>\n",
       "    </tr>\n",
       "    <tr>\n",
       "      <th>mjd</th>\n",
       "      <td>-0.086887</td>\n",
       "      <td>0.066147</td>\n",
       "      <td>-0.168793</td>\n",
       "      <td>-0.092772</td>\n",
       "      <td>-0.009345</td>\n",
       "      <td>0.050896</td>\n",
       "      <td>0.095658</td>\n",
       "      <td>0.070354</td>\n",
       "      <td>NaN</td>\n",
       "      <td>0.026284</td>\n",
       "      <td>-0.086558</td>\n",
       "      <td>-0.057957</td>\n",
       "      <td>0.966881</td>\n",
       "      <td>1.000000</td>\n",
       "      <td>0.190328</td>\n",
       "    </tr>\n",
       "    <tr>\n",
       "      <th>fiberid</th>\n",
       "      <td>0.057485</td>\n",
       "      <td>0.155012</td>\n",
       "      <td>0.011301</td>\n",
       "      <td>0.047187</td>\n",
       "      <td>0.061081</td>\n",
       "      <td>0.069977</td>\n",
       "      <td>0.067980</td>\n",
       "      <td>0.138566</td>\n",
       "      <td>NaN</td>\n",
       "      <td>0.535629</td>\n",
       "      <td>-0.040493</td>\n",
       "      <td>0.046532</td>\n",
       "      <td>0.229811</td>\n",
       "      <td>0.190328</td>\n",
       "      <td>1.000000</td>\n",
       "    </tr>\n",
       "  </tbody>\n",
       "</table>\n",
       "</div>"
      ],
      "text/plain": [
       "                ra       dec         u         g         r         i  \\\n",
       "ra        1.000000  0.003596  0.031238  0.043909  0.047103  0.045731   \n",
       "dec       0.003596  1.000000  0.035279  0.061875  0.063404  0.058292   \n",
       "u         0.031238  0.035279  1.000000  0.849232  0.692379  0.602630   \n",
       "g         0.043909  0.061875  0.849232  1.000000  0.958106  0.907419   \n",
       "r         0.047103  0.063404  0.692379  0.958106  1.000000  0.977672   \n",
       "i         0.045731  0.058292  0.602630  0.907419  0.977672  1.000000   \n",
       "z         0.042950  0.056870  0.551483  0.879622  0.969197  0.981507   \n",
       "run      -0.092741  0.778385  0.038229  0.058446  0.057261  0.049765   \n",
       "rerun          NaN       NaN       NaN       NaN       NaN       NaN   \n",
       "camcol   -0.006294  0.114614  0.009945  0.010223  0.010747  0.013461   \n",
       "field     0.594700 -0.131471  0.008548  0.014651  0.017133  0.019781   \n",
       "redshift  0.030307  0.067021  0.163741  0.407576  0.441080  0.431450   \n",
       "plate    -0.095329  0.088342 -0.129430 -0.054981  0.019787  0.072958   \n",
       "mjd      -0.086887  0.066147 -0.168793 -0.092772 -0.009345  0.050896   \n",
       "fiberid   0.057485  0.155012  0.011301  0.047187  0.061081  0.069977   \n",
       "\n",
       "                 z       run  rerun    camcol     field  redshift     plate  \\\n",
       "ra        0.042950 -0.092741    NaN -0.006294  0.594700  0.030307 -0.095329   \n",
       "dec       0.056870  0.778385    NaN  0.114614 -0.131471  0.067021  0.088342   \n",
       "u         0.551483  0.038229    NaN  0.009945  0.008548  0.163741 -0.129430   \n",
       "g         0.879622  0.058446    NaN  0.010223  0.014651  0.407576 -0.054981   \n",
       "r         0.969197  0.057261    NaN  0.010747  0.017133  0.441080  0.019787   \n",
       "i         0.981507  0.049765    NaN  0.013461  0.019781  0.431450  0.072958   \n",
       "z         1.000000  0.048252    NaN  0.010930  0.018248  0.424034  0.112397   \n",
       "run       0.048252  1.000000    NaN  0.151814 -0.463898  0.059056  0.093601   \n",
       "rerun          NaN       NaN    NaN       NaN       NaN       NaN       NaN   \n",
       "camcol    0.010930  0.151814    NaN  1.000000 -0.067921  0.006834  0.040795   \n",
       "field     0.018248 -0.463898    NaN -0.067921  1.000000  0.015414 -0.093723   \n",
       "redshift  0.424034  0.059056    NaN  0.006834  0.015414  1.000000 -0.038091   \n",
       "plate     0.112397  0.093601    NaN  0.040795 -0.093723 -0.038091  1.000000   \n",
       "mjd       0.095658  0.070354    NaN  0.026284 -0.086558 -0.057957  0.966881   \n",
       "fiberid   0.067980  0.138566    NaN  0.535629 -0.040493  0.046532  0.229811   \n",
       "\n",
       "               mjd   fiberid  \n",
       "ra       -0.086887  0.057485  \n",
       "dec       0.066147  0.155012  \n",
       "u        -0.168793  0.011301  \n",
       "g        -0.092772  0.047187  \n",
       "r        -0.009345  0.061081  \n",
       "i         0.050896  0.069977  \n",
       "z         0.095658  0.067980  \n",
       "run       0.070354  0.138566  \n",
       "rerun          NaN       NaN  \n",
       "camcol    0.026284  0.535629  \n",
       "field    -0.086558 -0.040493  \n",
       "redshift -0.057957  0.046532  \n",
       "plate     0.966881  0.229811  \n",
       "mjd       1.000000  0.190328  \n",
       "fiberid   0.190328  1.000000  "
      ]
     },
     "execution_count": 28,
     "metadata": {},
     "output_type": "execute_result"
    }
   ],
   "source": [
    "a.corr()"
   ]
  },
  {
   "cell_type": "markdown",
   "metadata": {},
   "source": [
    "rerun is not co related to the data removing row rerun"
   ]
  },
  {
   "cell_type": "code",
   "execution_count": 29,
   "metadata": {},
   "outputs": [],
   "source": [
    "a.drop('rerun',inplace=True,axis=1)"
   ]
  },
  {
   "cell_type": "code",
   "execution_count": 30,
   "metadata": {},
   "outputs": [
    {
     "data": {
      "text/plain": [
       "<matplotlib.axes._subplots.AxesSubplot at 0x1edf5f99550>"
      ]
     },
     "execution_count": 30,
     "metadata": {},
     "output_type": "execute_result"
    },
    {
     "data": {
      "image/png": "[encoded data removed]",
      "text/plain": [
       "<Figure size 432x288 with 2 Axes>"
      ]
     },
     "metadata": {
      "needs_background": "light"
     },
     "output_type": "display_data"
    }
   ],
   "source": [
    "sb.heatmap(b.corr())"
   ]
  },
  {
   "cell_type": "markdown",
   "metadata": {},
   "source": [
    "Most of data is positively related to each other. Only ra and dec are negatively co realted to each other."
   ]
  },
  {
   "cell_type": "code",
   "execution_count": 31,
   "metadata": {},
   "outputs": [
    {
     "data": {
      "text/plain": [
       "ra          0\n",
       "dec         0\n",
       "u           0\n",
       "g           0\n",
       "r           0\n",
       "i           0\n",
       "z           0\n",
       "run         0\n",
       "camcol      0\n",
       "field       0\n",
       "class       0\n",
       "redshift    0\n",
       "plate       0\n",
       "mjd         0\n",
       "fiberid     0\n",
       "dtype: int64"
      ]
     },
     "execution_count": 31,
     "metadata": {},
     "output_type": "execute_result"
    }
   ],
   "source": [
    "a.isnull().sum()"
   ]
  },
  {
   "cell_type": "markdown",
   "metadata": {},
   "source": [
    "There are no null values"
   ]
  },
  {
   "cell_type": "code",
   "execution_count": 32,
   "metadata": {},
   "outputs": [],
   "source": [
    "import sklearn\n",
    "from sklearn.preprocessing import LabelEncoder\n",
    "le=LabelEncoder()\n",
    "a['class']=le.fit_transform(a['class'])"
   ]
  },
  {
   "cell_type": "code",
   "execution_count": 33,
   "metadata": {},
   "outputs": [
    {
     "data": {
      "text/plain": [
       "ra          float64\n",
       "dec         float64\n",
       "u           float64\n",
       "g           float64\n",
       "r           float64\n",
       "i           float64\n",
       "z           float64\n",
       "run           int64\n",
       "camcol        int64\n",
       "field         int64\n",
       "class         int32\n",
       "redshift    float64\n",
       "plate         int64\n",
       "mjd           int64\n",
       "fiberid       int64\n",
       "dtype: object"
      ]
     },
     "execution_count": 33,
     "metadata": {},
     "output_type": "execute_result"
    }
   ],
   "source": [
    "a.dtypes"
   ]
  },
  {
   "cell_type": "code",
   "execution_count": 34,
   "metadata": {},
   "outputs": [
    {
     "name": "stdout",
     "output_type": "stream",
     "text": [
      "<class 'pandas.core.frame.DataFrame'>\n",
      "RangeIndex: 10000 entries, 0 to 9999\n",
      "Data columns (total 15 columns):\n",
      " #   Column    Non-Null Count  Dtype  \n",
      "---  ------    --------------  -----  \n",
      " 0   ra        10000 non-null  float64\n",
      " 1   dec       10000 non-null  float64\n",
      " 2   u         10000 non-null  float64\n",
      " 3   g         10000 non-null  float64\n",
      " 4   r         10000 non-null  float64\n",
      " 5   i         10000 non-null  float64\n",
      " 6   z         10000 non-null  float64\n",
      " 7   run       10000 non-null  int64  \n",
      " 8   camcol    10000 non-null  int64  \n",
      " 9   field     10000 non-null  int64  \n",
      " 10  class     10000 non-null  int32  \n",
      " 11  redshift  10000 non-null  float64\n",
      " 12  plate     10000 non-null  int64  \n",
      " 13  mjd       10000 non-null  int64  \n",
      " 14  fiberid   10000 non-null  int64  \n",
      "dtypes: float64(8), int32(1), int64(6)\n",
      "memory usage: 1.1 MB\n"
     ]
    }
   ],
   "source": [
    "a.info()"
   ]
  },
  {
   "cell_type": "code",
   "execution_count": 35,
   "metadata": {},
   "outputs": [
    {
     "data": {
      "text/html": [
       "<div>\n",
       "<style scoped>\n",
       "    .dataframe tbody tr th:only-of-type {\n",
       "        vertical-align: middle;\n",
       "    }\n",
       "\n",
       "    .dataframe tbody tr th {\n",
       "        vertical-align: top;\n",
       "    }\n",
       "\n",
       "    .dataframe thead th {\n",
       "        text-align: right;\n",
       "    }\n",
       "</style>\n",
       "<table border=\"1\" class=\"dataframe\">\n",
       "  <thead>\n",
       "    <tr style=\"text-align: right;\">\n",
       "      <th></th>\n",
       "      <th>ra</th>\n",
       "      <th>dec</th>\n",
       "      <th>u</th>\n",
       "      <th>g</th>\n",
       "      <th>r</th>\n",
       "      <th>i</th>\n",
       "      <th>z</th>\n",
       "      <th>run</th>\n",
       "      <th>camcol</th>\n",
       "      <th>field</th>\n",
       "      <th>class</th>\n",
       "      <th>redshift</th>\n",
       "      <th>plate</th>\n",
       "      <th>mjd</th>\n",
       "      <th>fiberid</th>\n",
       "    </tr>\n",
       "  </thead>\n",
       "  <tbody>\n",
       "    <tr>\n",
       "      <th>count</th>\n",
       "      <td>10000.000000</td>\n",
       "      <td>10000.000000</td>\n",
       "      <td>10000.000000</td>\n",
       "      <td>10000.000000</td>\n",
       "      <td>10000.000000</td>\n",
       "      <td>10000.000000</td>\n",
       "      <td>10000.000000</td>\n",
       "      <td>10000.000000</td>\n",
       "      <td>10000.000000</td>\n",
       "      <td>10000.000000</td>\n",
       "      <td>10000.000000</td>\n",
       "      <td>10000.000000</td>\n",
       "      <td>10000.000000</td>\n",
       "      <td>10000.000000</td>\n",
       "      <td>10000.000000</td>\n",
       "    </tr>\n",
       "    <tr>\n",
       "      <th>mean</th>\n",
       "      <td>175.529987</td>\n",
       "      <td>14.836148</td>\n",
       "      <td>18.619355</td>\n",
       "      <td>17.371931</td>\n",
       "      <td>16.840963</td>\n",
       "      <td>16.583579</td>\n",
       "      <td>16.422833</td>\n",
       "      <td>981.034800</td>\n",
       "      <td>3.648700</td>\n",
       "      <td>302.380100</td>\n",
       "      <td>0.915400</td>\n",
       "      <td>0.143726</td>\n",
       "      <td>1460.986400</td>\n",
       "      <td>52943.533300</td>\n",
       "      <td>353.069400</td>\n",
       "    </tr>\n",
       "    <tr>\n",
       "      <th>std</th>\n",
       "      <td>47.783439</td>\n",
       "      <td>25.212207</td>\n",
       "      <td>0.828656</td>\n",
       "      <td>0.945457</td>\n",
       "      <td>1.067764</td>\n",
       "      <td>1.141805</td>\n",
       "      <td>1.203188</td>\n",
       "      <td>273.305024</td>\n",
       "      <td>1.666183</td>\n",
       "      <td>162.577763</td>\n",
       "      <td>0.952856</td>\n",
       "      <td>0.388774</td>\n",
       "      <td>1788.778371</td>\n",
       "      <td>1511.150651</td>\n",
       "      <td>206.298149</td>\n",
       "    </tr>\n",
       "    <tr>\n",
       "      <th>min</th>\n",
       "      <td>8.235100</td>\n",
       "      <td>-5.382632</td>\n",
       "      <td>12.988970</td>\n",
       "      <td>12.799550</td>\n",
       "      <td>12.431600</td>\n",
       "      <td>11.947210</td>\n",
       "      <td>11.610410</td>\n",
       "      <td>308.000000</td>\n",
       "      <td>1.000000</td>\n",
       "      <td>11.000000</td>\n",
       "      <td>0.000000</td>\n",
       "      <td>-0.004136</td>\n",
       "      <td>266.000000</td>\n",
       "      <td>51578.000000</td>\n",
       "      <td>1.000000</td>\n",
       "    </tr>\n",
       "    <tr>\n",
       "      <th>25%</th>\n",
       "      <td>157.370946</td>\n",
       "      <td>-0.539035</td>\n",
       "      <td>18.178035</td>\n",
       "      <td>16.815100</td>\n",
       "      <td>16.173333</td>\n",
       "      <td>15.853705</td>\n",
       "      <td>15.618285</td>\n",
       "      <td>752.000000</td>\n",
       "      <td>2.000000</td>\n",
       "      <td>184.000000</td>\n",
       "      <td>0.000000</td>\n",
       "      <td>0.000081</td>\n",
       "      <td>301.000000</td>\n",
       "      <td>51900.000000</td>\n",
       "      <td>186.750000</td>\n",
       "    </tr>\n",
       "    <tr>\n",
       "      <th>50%</th>\n",
       "      <td>180.394514</td>\n",
       "      <td>0.404166</td>\n",
       "      <td>18.853095</td>\n",
       "      <td>17.495135</td>\n",
       "      <td>16.858770</td>\n",
       "      <td>16.554985</td>\n",
       "      <td>16.389945</td>\n",
       "      <td>756.000000</td>\n",
       "      <td>4.000000</td>\n",
       "      <td>299.000000</td>\n",
       "      <td>1.000000</td>\n",
       "      <td>0.042591</td>\n",
       "      <td>441.000000</td>\n",
       "      <td>51997.000000</td>\n",
       "      <td>351.000000</td>\n",
       "    </tr>\n",
       "    <tr>\n",
       "      <th>75%</th>\n",
       "      <td>201.547279</td>\n",
       "      <td>35.649397</td>\n",
       "      <td>19.259232</td>\n",
       "      <td>18.010145</td>\n",
       "      <td>17.512675</td>\n",
       "      <td>17.258550</td>\n",
       "      <td>17.141447</td>\n",
       "      <td>1331.000000</td>\n",
       "      <td>5.000000</td>\n",
       "      <td>414.000000</td>\n",
       "      <td>2.000000</td>\n",
       "      <td>0.092579</td>\n",
       "      <td>2559.000000</td>\n",
       "      <td>54468.000000</td>\n",
       "      <td>510.000000</td>\n",
       "    </tr>\n",
       "    <tr>\n",
       "      <th>max</th>\n",
       "      <td>260.884382</td>\n",
       "      <td>68.542265</td>\n",
       "      <td>19.599900</td>\n",
       "      <td>19.918970</td>\n",
       "      <td>24.802040</td>\n",
       "      <td>28.179630</td>\n",
       "      <td>22.833060</td>\n",
       "      <td>1412.000000</td>\n",
       "      <td>6.000000</td>\n",
       "      <td>768.000000</td>\n",
       "      <td>2.000000</td>\n",
       "      <td>5.353854</td>\n",
       "      <td>8410.000000</td>\n",
       "      <td>57481.000000</td>\n",
       "      <td>1000.000000</td>\n",
       "    </tr>\n",
       "  </tbody>\n",
       "</table>\n",
       "</div>"
      ],
      "text/plain": [
       "                 ra           dec             u             g             r  \\\n",
       "count  10000.000000  10000.000000  10000.000000  10000.000000  10000.000000   \n",
       "mean     175.529987     14.836148     18.619355     17.371931     16.840963   \n",
       "std       47.783439     25.212207      0.828656      0.945457      1.067764   \n",
       "min        8.235100     -5.382632     12.988970     12.799550     12.431600   \n",
       "25%      157.370946     -0.539035     18.178035     16.815100     16.173333   \n",
       "50%      180.394514      0.404166     18.853095     17.495135     16.858770   \n",
       "75%      201.547279     35.649397     19.259232     18.010145     17.512675   \n",
       "max      260.884382     68.542265     19.599900     19.918970     24.802040   \n",
       "\n",
       "                  i             z           run        camcol         field  \\\n",
       "count  10000.000000  10000.000000  10000.000000  10000.000000  10000.000000   \n",
       "mean      16.583579     16.422833    981.034800      3.648700    302.380100   \n",
       "std        1.141805      1.203188    273.305024      1.666183    162.577763   \n",
       "min       11.947210     11.610410    308.000000      1.000000     11.000000   \n",
       "25%       15.853705     15.618285    752.000000      2.000000    184.000000   \n",
       "50%       16.554985     16.389945    756.000000      4.000000    299.000000   \n",
       "75%       17.258550     17.141447   1331.000000      5.000000    414.000000   \n",
       "max       28.179630     22.833060   1412.000000      6.000000    768.000000   \n",
       "\n",
       "              class      redshift         plate           mjd       fiberid  \n",
       "count  10000.000000  10000.000000  10000.000000  10000.000000  10000.000000  \n",
       "mean       0.915400      0.143726   1460.986400  52943.533300    353.069400  \n",
       "std        0.952856      0.388774   1788.778371   1511.150651    206.298149  \n",
       "min        0.000000     -0.004136    266.000000  51578.000000      1.000000  \n",
       "25%        0.000000      0.000081    301.000000  51900.000000    186.750000  \n",
       "50%        1.000000      0.042591    441.000000  51997.000000    351.000000  \n",
       "75%        2.000000      0.092579   2559.000000  54468.000000    510.000000  \n",
       "max        2.000000      5.353854   8410.000000  57481.000000   1000.000000  "
      ]
     },
     "execution_count": 35,
     "metadata": {},
     "output_type": "execute_result"
    }
   ],
   "source": [
    "a.describe()"
   ]
  },
  {
   "cell_type": "markdown",
   "metadata": {},
   "source": [
    "There is huge gap in 75% and max of redshift,plate,specobjid which means there are outliers"
   ]
  },
  {
   "cell_type": "markdown",
   "metadata": {},
   "source": [
    "# CHECKING OUTLIERS"
   ]
  },
  {
   "cell_type": "code",
   "execution_count": 36,
   "metadata": {},
   "outputs": [
    {
     "data": {
      "text/plain": [
       "ra              AxesSubplot(0.125,0.71587;0.133621x0.16413)\n",
       "dec          AxesSubplot(0.285345,0.71587;0.133621x0.16413)\n",
       "u             AxesSubplot(0.44569,0.71587;0.133621x0.16413)\n",
       "g            AxesSubplot(0.606034,0.71587;0.133621x0.16413)\n",
       "r            AxesSubplot(0.766379,0.71587;0.133621x0.16413)\n",
       "i              AxesSubplot(0.125,0.518913;0.133621x0.16413)\n",
       "z           AxesSubplot(0.285345,0.518913;0.133621x0.16413)\n",
       "run          AxesSubplot(0.44569,0.518913;0.133621x0.16413)\n",
       "camcol      AxesSubplot(0.606034,0.518913;0.133621x0.16413)\n",
       "field       AxesSubplot(0.766379,0.518913;0.133621x0.16413)\n",
       "class          AxesSubplot(0.125,0.321957;0.133621x0.16413)\n",
       "redshift    AxesSubplot(0.285345,0.321957;0.133621x0.16413)\n",
       "plate        AxesSubplot(0.44569,0.321957;0.133621x0.16413)\n",
       "mjd         AxesSubplot(0.606034,0.321957;0.133621x0.16413)\n",
       "fiberid     AxesSubplot(0.766379,0.321957;0.133621x0.16413)\n",
       "dtype: object"
      ]
     },
     "execution_count": 36,
     "metadata": {},
     "output_type": "execute_result"
    },
    {
     "data": {
      "image/png": "[encoded data removed]",
      "text/plain": [
       "<Figure size 720x720 with 20 Axes>"
      ]
     },
     "metadata": {
      "needs_background": "light"
     },
     "output_type": "display_data"
    }
   ],
   "source": [
    "a.plot(kind='box',subplots=True,figsize=(10,10),layout=(4,5))"
   ]
  },
  {
   "cell_type": "code",
   "execution_count": 37,
   "metadata": {},
   "outputs": [],
   "source": [
    "import scipy\n",
    "from scipy import stats\n",
    "from scipy.stats import zscore\n",
    "import warnings\n",
    "warnings.filterwarnings('ignore')"
   ]
  },
  {
   "cell_type": "code",
   "execution_count": 38,
   "metadata": {},
   "outputs": [],
   "source": [
    "z=np.abs(zscore(a))"
   ]
  },
  {
   "cell_type": "code",
   "execution_count": 39,
   "metadata": {},
   "outputs": [
    {
     "name": "stdout",
     "output_type": "stream",
     "text": [
      "(array([  45,  109,  129, ..., 9992, 9994, 9997], dtype=int64), array([11, 11, 11, ..., 12, 12, 12], dtype=int64))\n"
     ]
    }
   ],
   "source": [
    "threshold=3\n",
    "print(np.where(z>3))"
   ]
  },
  {
   "cell_type": "code",
   "execution_count": 40,
   "metadata": {},
   "outputs": [],
   "source": [
    "g=a[(z<3).all(axis=1)]"
   ]
  },
  {
   "cell_type": "code",
   "execution_count": 41,
   "metadata": {},
   "outputs": [
    {
     "name": "stdout",
     "output_type": "stream",
     "text": [
      "(10000, 15)\n",
      "(8698, 15)\n"
     ]
    }
   ],
   "source": [
    "print(a.shape)\n",
    "print(g.shape)"
   ]
  },
  {
   "cell_type": "markdown",
   "metadata": {},
   "source": [
    "# CHECKING SKEWNESS"
   ]
  },
  {
   "cell_type": "code",
   "execution_count": 42,
   "metadata": {},
   "outputs": [],
   "source": [
    "x=g.drop('class',axis=1)\n",
    "y=g['class'].values.reshape(-1,1)"
   ]
  },
  {
   "cell_type": "code",
   "execution_count": 43,
   "metadata": {},
   "outputs": [
    {
     "data": {
      "text/plain": [
       "ra         -0.130951\n",
       "dec         1.212911\n",
       "u          -0.981103\n",
       "g          -0.528033\n",
       "r          -0.153454\n",
       "i           0.055966\n",
       "z           0.167256\n",
       "run         0.518602\n",
       "camcol     -0.141193\n",
       "field       0.220032\n",
       "redshift    4.951700\n",
       "plate       1.320088\n",
       "mjd         0.963989\n",
       "fiberid     0.065374\n",
       "dtype: float64"
      ]
     },
     "execution_count": 43,
     "metadata": {},
     "output_type": "execute_result"
    }
   ],
   "source": [
    "x.skew()"
   ]
  },
  {
   "cell_type": "code",
   "execution_count": 44,
   "metadata": {},
   "outputs": [
    {
     "data": {
      "text/plain": [
       "array([[<matplotlib.axes._subplots.AxesSubplot object at 0x000001EDF69896D0>,\n",
       "        <matplotlib.axes._subplots.AxesSubplot object at 0x000001EDF69CEAC0>,\n",
       "        <matplotlib.axes._subplots.AxesSubplot object at 0x000001EDF7AF4F10>,\n",
       "        <matplotlib.axes._subplots.AxesSubplot object at 0x000001EDF7B2B3A0>],\n",
       "       [<matplotlib.axes._subplots.AxesSubplot object at 0x000001EDF7B577F0>,\n",
       "        <matplotlib.axes._subplots.AxesSubplot object at 0x000001EDF7B83B80>,\n",
       "        <matplotlib.axes._subplots.AxesSubplot object at 0x000001EDF7B83C70>,\n",
       "        <matplotlib.axes._subplots.AxesSubplot object at 0x000001EDF7BBF190>],\n",
       "       [<matplotlib.axes._subplots.AxesSubplot object at 0x000001EDF7C16850>,\n",
       "        <matplotlib.axes._subplots.AxesSubplot object at 0x000001EDF7C3FFD0>,\n",
       "        <matplotlib.axes._subplots.AxesSubplot object at 0x000001EDF7C74790>,\n",
       "        <matplotlib.axes._subplots.AxesSubplot object at 0x000001EDF7C9EF10>],\n",
       "       [<matplotlib.axes._subplots.AxesSubplot object at 0x000001EDF7CD3700>,\n",
       "        <matplotlib.axes._subplots.AxesSubplot object at 0x000001EDF7CFDE50>,\n",
       "        <matplotlib.axes._subplots.AxesSubplot object at 0x000001EDF7D32550>,\n",
       "        <matplotlib.axes._subplots.AxesSubplot object at 0x000001EDF7D51E80>]],\n",
       "      dtype=object)"
      ]
     },
     "execution_count": 44,
     "metadata": {},
     "output_type": "execute_result"
    },
    {
     "data": {
      "image/png": "[encoded data removed]",
      "text/plain": [
       "<Figure size 720x720 with 16 Axes>"
      ]
     },
     "metadata": {
      "needs_background": "light"
     },
     "output_type": "display_data"
    }
   ],
   "source": [
    "x.hist(figsize=(10,10))"
   ]
  },
  {
   "cell_type": "code",
   "execution_count": 45,
   "metadata": {},
   "outputs": [],
   "source": [
    "from sklearn.preprocessing import PowerTransformer\n",
    "p=PowerTransformer(method='yeo-johnson',standardize=True)\n",
    "x=pd.DataFrame(p.fit_transform(x),columns=x.columns)"
   ]
  },
  {
   "cell_type": "code",
   "execution_count": 46,
   "metadata": {},
   "outputs": [
    {
     "data": {
      "text/plain": [
       "ra          0.037956\n",
       "dec        -0.548404\n",
       "u          -0.210400\n",
       "g          -0.017782\n",
       "r          -0.001395\n",
       "i           0.001266\n",
       "z           0.000333\n",
       "run         0.000000\n",
       "camcol     -0.168930\n",
       "field      -0.119432\n",
       "redshift    0.446980\n",
       "plate       0.000000\n",
       "mjd         0.000000\n",
       "fiberid    -0.245856\n",
       "dtype: float64"
      ]
     },
     "execution_count": 46,
     "metadata": {},
     "output_type": "execute_result"
    }
   ],
   "source": [
    "x.skew()"
   ]
  },
  {
   "cell_type": "code",
   "execution_count": 47,
   "metadata": {},
   "outputs": [
    {
     "data": {
      "text/plain": [
       "array([[<matplotlib.axes._subplots.AxesSubplot object at 0x000001EDF6784FA0>,\n",
       "        <matplotlib.axes._subplots.AxesSubplot object at 0x000001EDF67AA160>,\n",
       "        <matplotlib.axes._subplots.AxesSubplot object at 0x000001EDF81E55B0>,\n",
       "        <matplotlib.axes._subplots.AxesSubplot object at 0x000001EDF8210A00>],\n",
       "       [<matplotlib.axes._subplots.AxesSubplot object at 0x000001EDF823EE50>,\n",
       "        <matplotlib.axes._subplots.AxesSubplot object at 0x000001EDF8276220>,\n",
       "        <matplotlib.axes._subplots.AxesSubplot object at 0x000001EDF8276310>,\n",
       "        <matplotlib.axes._subplots.AxesSubplot object at 0x000001EDF82A17F0>],\n",
       "       [<matplotlib.axes._subplots.AxesSubplot object at 0x000001EDF82FA100>,\n",
       "        <matplotlib.axes._subplots.AxesSubplot object at 0x000001EDF8334550>,\n",
       "        <matplotlib.axes._subplots.AxesSubplot object at 0x000001EDF835A0D0>,\n",
       "        <matplotlib.axes._subplots.AxesSubplot object at 0x000001EDF838E7F0>],\n",
       "       [<matplotlib.axes._subplots.AxesSubplot object at 0x000001EDF83B9F70>,\n",
       "        <matplotlib.axes._subplots.AxesSubplot object at 0x000001EDF83ED730>,\n",
       "        <matplotlib.axes._subplots.AxesSubplot object at 0x000001EDF8418DF0>,\n",
       "        <matplotlib.axes._subplots.AxesSubplot object at 0x000001EDF8442760>]],\n",
       "      dtype=object)"
      ]
     },
     "execution_count": 47,
     "metadata": {},
     "output_type": "execute_result"
    },
    {
     "data": {
      "image/png": "[encoded data removed]",
      "text/plain": [
       "<Figure size 720x720 with 16 Axes>"
      ]
     },
     "metadata": {
      "needs_background": "light"
     },
     "output_type": "display_data"
    }
   ],
   "source": [
    "x.hist(figsize=(10,10))"
   ]
  },
  {
   "cell_type": "code",
   "execution_count": 48,
   "metadata": {},
   "outputs": [
    {
     "data": {
      "text/html": [
       "<div>\n",
       "<style scoped>\n",
       "    .dataframe tbody tr th:only-of-type {\n",
       "        vertical-align: middle;\n",
       "    }\n",
       "\n",
       "    .dataframe tbody tr th {\n",
       "        vertical-align: top;\n",
       "    }\n",
       "\n",
       "    .dataframe thead th {\n",
       "        text-align: right;\n",
       "    }\n",
       "</style>\n",
       "<table border=\"1\" class=\"dataframe\">\n",
       "  <thead>\n",
       "    <tr style=\"text-align: right;\">\n",
       "      <th></th>\n",
       "      <th>ra</th>\n",
       "      <th>dec</th>\n",
       "      <th>u</th>\n",
       "      <th>g</th>\n",
       "      <th>r</th>\n",
       "      <th>i</th>\n",
       "      <th>z</th>\n",
       "      <th>run</th>\n",
       "      <th>camcol</th>\n",
       "      <th>field</th>\n",
       "      <th>redshift</th>\n",
       "      <th>plate</th>\n",
       "      <th>mjd</th>\n",
       "      <th>fiberid</th>\n",
       "    </tr>\n",
       "  </thead>\n",
       "  <tbody>\n",
       "    <tr>\n",
       "      <th>0</th>\n",
       "      <td>0.001237</td>\n",
       "      <td>-0.237529</td>\n",
       "      <td>1.340596</td>\n",
       "      <td>-0.426148</td>\n",
       "      <td>-0.864860</td>\n",
       "      <td>-0.969233</td>\n",
       "      <td>-1.009719</td>\n",
       "      <td>0.0</td>\n",
       "      <td>0.208115</td>\n",
       "      <td>-0.234478</td>\n",
       "      <td>-1.035159</td>\n",
       "      <td>0.0</td>\n",
       "      <td>0.0</td>\n",
       "      <td>0.767618</td>\n",
       "    </tr>\n",
       "    <tr>\n",
       "      <th>1</th>\n",
       "      <td>0.003109</td>\n",
       "      <td>-0.225365</td>\n",
       "      <td>-0.198535</td>\n",
       "      <td>-0.230384</td>\n",
       "      <td>-0.123887</td>\n",
       "      <td>-0.000771</td>\n",
       "      <td>0.081991</td>\n",
       "      <td>0.0</td>\n",
       "      <td>0.208115</td>\n",
       "      <td>-0.234478</td>\n",
       "      <td>-1.036542</td>\n",
       "      <td>0.0</td>\n",
       "      <td>0.0</td>\n",
       "      <td>0.993703</td>\n",
       "    </tr>\n",
       "    <tr>\n",
       "      <th>2</th>\n",
       "      <td>0.005394</td>\n",
       "      <td>-0.227760</td>\n",
       "      <td>1.128278</td>\n",
       "      <td>1.028634</td>\n",
       "      <td>0.720385</td>\n",
       "      <td>0.578911</td>\n",
       "      <td>0.451008</td>\n",
       "      <td>0.0</td>\n",
       "      <td>0.208115</td>\n",
       "      <td>-0.228155</td>\n",
       "      <td>1.168047</td>\n",
       "      <td>0.0</td>\n",
       "      <td>0.0</td>\n",
       "      <td>0.867766</td>\n",
       "    </tr>\n",
       "    <tr>\n",
       "      <th>3</th>\n",
       "      <td>0.010710</td>\n",
       "      <td>-0.248497</td>\n",
       "      <td>-1.207962</td>\n",
       "      <td>-0.893927</td>\n",
       "      <td>-0.650340</td>\n",
       "      <td>-0.496666</td>\n",
       "      <td>-0.366317</td>\n",
       "      <td>0.0</td>\n",
       "      <td>0.208115</td>\n",
       "      <td>-0.221837</td>\n",
       "      <td>-1.038219</td>\n",
       "      <td>0.0</td>\n",
       "      <td>0.0</td>\n",
       "      <td>0.854173</td>\n",
       "    </tr>\n",
       "    <tr>\n",
       "      <th>4</th>\n",
       "      <td>0.011067</td>\n",
       "      <td>-0.234055</td>\n",
       "      <td>-1.375674</td>\n",
       "      <td>-1.224713</td>\n",
       "      <td>-0.368578</td>\n",
       "      <td>0.063190</td>\n",
       "      <td>0.282600</td>\n",
       "      <td>0.0</td>\n",
       "      <td>0.208115</td>\n",
       "      <td>-0.221837</td>\n",
       "      <td>-1.017179</td>\n",
       "      <td>0.0</td>\n",
       "      <td>0.0</td>\n",
       "      <td>0.863237</td>\n",
       "    </tr>\n",
       "    <tr>\n",
       "      <th>...</th>\n",
       "      <td>...</td>\n",
       "      <td>...</td>\n",
       "      <td>...</td>\n",
       "      <td>...</td>\n",
       "      <td>...</td>\n",
       "      <td>...</td>\n",
       "      <td>...</td>\n",
       "      <td>...</td>\n",
       "      <td>...</td>\n",
       "      <td>...</td>\n",
       "      <td>...</td>\n",
       "      <td>...</td>\n",
       "      <td>...</td>\n",
       "      <td>...</td>\n",
       "    </tr>\n",
       "    <tr>\n",
       "      <th>8693</th>\n",
       "      <td>-1.407319</td>\n",
       "      <td>1.355869</td>\n",
       "      <td>-1.182009</td>\n",
       "      <td>-1.441217</td>\n",
       "      <td>-1.631721</td>\n",
       "      <td>-1.756297</td>\n",
       "      <td>-1.884965</td>\n",
       "      <td>0.0</td>\n",
       "      <td>-0.382213</td>\n",
       "      <td>-0.942415</td>\n",
       "      <td>0.263281</td>\n",
       "      <td>0.0</td>\n",
       "      <td>0.0</td>\n",
       "      <td>-0.427184</td>\n",
       "    </tr>\n",
       "    <tr>\n",
       "      <th>8694</th>\n",
       "      <td>-1.409467</td>\n",
       "      <td>1.355930</td>\n",
       "      <td>0.040257</td>\n",
       "      <td>0.074713</td>\n",
       "      <td>0.125008</td>\n",
       "      <td>0.187724</td>\n",
       "      <td>0.185565</td>\n",
       "      <td>0.0</td>\n",
       "      <td>-0.382213</td>\n",
       "      <td>-0.942415</td>\n",
       "      <td>-0.305583</td>\n",
       "      <td>0.0</td>\n",
       "      <td>0.0</td>\n",
       "      <td>-0.443451</td>\n",
       "    </tr>\n",
       "    <tr>\n",
       "      <th>8695</th>\n",
       "      <td>-1.409735</td>\n",
       "      <td>1.357316</td>\n",
       "      <td>-0.707799</td>\n",
       "      <td>0.035609</td>\n",
       "      <td>0.295543</td>\n",
       "      <td>0.220298</td>\n",
       "      <td>0.359568</td>\n",
       "      <td>0.0</td>\n",
       "      <td>-0.382213</td>\n",
       "      <td>-0.935308</td>\n",
       "      <td>1.114500</td>\n",
       "      <td>0.0</td>\n",
       "      <td>0.0</td>\n",
       "      <td>-0.542112</td>\n",
       "    </tr>\n",
       "    <tr>\n",
       "      <th>8696</th>\n",
       "      <td>-1.405283</td>\n",
       "      <td>1.358175</td>\n",
       "      <td>0.147510</td>\n",
       "      <td>0.639710</td>\n",
       "      <td>0.782301</td>\n",
       "      <td>0.844030</td>\n",
       "      <td>0.750635</td>\n",
       "      <td>0.0</td>\n",
       "      <td>-0.382213</td>\n",
       "      <td>-0.928211</td>\n",
       "      <td>-0.640316</td>\n",
       "      <td>0.0</td>\n",
       "      <td>0.0</td>\n",
       "      <td>-0.536582</td>\n",
       "    </tr>\n",
       "    <tr>\n",
       "      <th>8697</th>\n",
       "      <td>-1.400391</td>\n",
       "      <td>1.358723</td>\n",
       "      <td>0.892812</td>\n",
       "      <td>-0.037142</td>\n",
       "      <td>-0.504412</td>\n",
       "      <td>-0.641146</td>\n",
       "      <td>-0.741197</td>\n",
       "      <td>0.0</td>\n",
       "      <td>-0.382213</td>\n",
       "      <td>-0.928211</td>\n",
       "      <td>1.121102</td>\n",
       "      <td>0.0</td>\n",
       "      <td>0.0</td>\n",
       "      <td>-0.514520</td>\n",
       "    </tr>\n",
       "  </tbody>\n",
       "</table>\n",
       "<p>8698 rows × 14 columns</p>\n",
       "</div>"
      ],
      "text/plain": [
       "            ra       dec         u         g         r         i         z  \\\n",
       "0     0.001237 -0.237529  1.340596 -0.426148 -0.864860 -0.969233 -1.009719   \n",
       "1     0.003109 -0.225365 -0.198535 -0.230384 -0.123887 -0.000771  0.081991   \n",
       "2     0.005394 -0.227760  1.128278  1.028634  0.720385  0.578911  0.451008   \n",
       "3     0.010710 -0.248497 -1.207962 -0.893927 -0.650340 -0.496666 -0.366317   \n",
       "4     0.011067 -0.234055 -1.375674 -1.224713 -0.368578  0.063190  0.282600   \n",
       "...        ...       ...       ...       ...       ...       ...       ...   \n",
       "8693 -1.407319  1.355869 -1.182009 -1.441217 -1.631721 -1.756297 -1.884965   \n",
       "8694 -1.409467  1.355930  0.040257  0.074713  0.125008  0.187724  0.185565   \n",
       "8695 -1.409735  1.357316 -0.707799  0.035609  0.295543  0.220298  0.359568   \n",
       "8696 -1.405283  1.358175  0.147510  0.639710  0.782301  0.844030  0.750635   \n",
       "8697 -1.400391  1.358723  0.892812 -0.037142 -0.504412 -0.641146 -0.741197   \n",
       "\n",
       "      run    camcol     field  redshift  plate  mjd   fiberid  \n",
       "0     0.0  0.208115 -0.234478 -1.035159    0.0  0.0  0.767618  \n",
       "1     0.0  0.208115 -0.234478 -1.036542    0.0  0.0  0.993703  \n",
       "2     0.0  0.208115 -0.228155  1.168047    0.0  0.0  0.867766  \n",
       "3     0.0  0.208115 -0.221837 -1.038219    0.0  0.0  0.854173  \n",
       "4     0.0  0.208115 -0.221837 -1.017179    0.0  0.0  0.863237  \n",
       "...   ...       ...       ...       ...    ...  ...       ...  \n",
       "8693  0.0 -0.382213 -0.942415  0.263281    0.0  0.0 -0.427184  \n",
       "8694  0.0 -0.382213 -0.942415 -0.305583    0.0  0.0 -0.443451  \n",
       "8695  0.0 -0.382213 -0.935308  1.114500    0.0  0.0 -0.542112  \n",
       "8696  0.0 -0.382213 -0.928211 -0.640316    0.0  0.0 -0.536582  \n",
       "8697  0.0 -0.382213 -0.928211  1.121102    0.0  0.0 -0.514520  \n",
       "\n",
       "[8698 rows x 14 columns]"
      ]
     },
     "execution_count": 48,
     "metadata": {},
     "output_type": "execute_result"
    }
   ],
   "source": [
    "x"
   ]
  },
  {
   "cell_type": "code",
   "execution_count": 49,
   "metadata": {},
   "outputs": [
    {
     "data": {
      "text/plain": [
       "(8698, 1)"
      ]
     },
     "execution_count": 49,
     "metadata": {},
     "output_type": "execute_result"
    }
   ],
   "source": [
    "y.shape"
   ]
  },
  {
   "cell_type": "code",
   "execution_count": 50,
   "metadata": {},
   "outputs": [],
   "source": [
    "from sklearn.preprocessing import StandardScaler"
   ]
  },
  {
   "cell_type": "code",
   "execution_count": 51,
   "metadata": {},
   "outputs": [],
   "source": [
    "s=StandardScaler()"
   ]
  },
  {
   "cell_type": "code",
   "execution_count": 52,
   "metadata": {},
   "outputs": [],
   "source": [
    "x=pd.DataFrame(s.fit_transform(x),columns=x.columns)"
   ]
  },
  {
   "cell_type": "code",
   "execution_count": 53,
   "metadata": {},
   "outputs": [
    {
     "data": {
      "text/html": [
       "<div>\n",
       "<style scoped>\n",
       "    .dataframe tbody tr th:only-of-type {\n",
       "        vertical-align: middle;\n",
       "    }\n",
       "\n",
       "    .dataframe tbody tr th {\n",
       "        vertical-align: top;\n",
       "    }\n",
       "\n",
       "    .dataframe thead th {\n",
       "        text-align: right;\n",
       "    }\n",
       "</style>\n",
       "<table border=\"1\" class=\"dataframe\">\n",
       "  <thead>\n",
       "    <tr style=\"text-align: right;\">\n",
       "      <th></th>\n",
       "      <th>ra</th>\n",
       "      <th>dec</th>\n",
       "      <th>u</th>\n",
       "      <th>g</th>\n",
       "      <th>r</th>\n",
       "      <th>i</th>\n",
       "      <th>z</th>\n",
       "      <th>run</th>\n",
       "      <th>camcol</th>\n",
       "      <th>field</th>\n",
       "      <th>redshift</th>\n",
       "      <th>plate</th>\n",
       "      <th>mjd</th>\n",
       "      <th>fiberid</th>\n",
       "    </tr>\n",
       "  </thead>\n",
       "  <tbody>\n",
       "    <tr>\n",
       "      <th>0</th>\n",
       "      <td>0.001237</td>\n",
       "      <td>-0.237529</td>\n",
       "      <td>1.340596</td>\n",
       "      <td>-0.426148</td>\n",
       "      <td>-0.864860</td>\n",
       "      <td>-0.969233</td>\n",
       "      <td>-1.009719</td>\n",
       "      <td>0.0</td>\n",
       "      <td>0.208115</td>\n",
       "      <td>-0.234478</td>\n",
       "      <td>-1.035159</td>\n",
       "      <td>0.0</td>\n",
       "      <td>0.0</td>\n",
       "      <td>0.767618</td>\n",
       "    </tr>\n",
       "    <tr>\n",
       "      <th>1</th>\n",
       "      <td>0.003109</td>\n",
       "      <td>-0.225365</td>\n",
       "      <td>-0.198535</td>\n",
       "      <td>-0.230384</td>\n",
       "      <td>-0.123887</td>\n",
       "      <td>-0.000771</td>\n",
       "      <td>0.081991</td>\n",
       "      <td>0.0</td>\n",
       "      <td>0.208115</td>\n",
       "      <td>-0.234478</td>\n",
       "      <td>-1.036542</td>\n",
       "      <td>0.0</td>\n",
       "      <td>0.0</td>\n",
       "      <td>0.993703</td>\n",
       "    </tr>\n",
       "    <tr>\n",
       "      <th>2</th>\n",
       "      <td>0.005394</td>\n",
       "      <td>-0.227760</td>\n",
       "      <td>1.128278</td>\n",
       "      <td>1.028634</td>\n",
       "      <td>0.720385</td>\n",
       "      <td>0.578911</td>\n",
       "      <td>0.451008</td>\n",
       "      <td>0.0</td>\n",
       "      <td>0.208115</td>\n",
       "      <td>-0.228155</td>\n",
       "      <td>1.168047</td>\n",
       "      <td>0.0</td>\n",
       "      <td>0.0</td>\n",
       "      <td>0.867766</td>\n",
       "    </tr>\n",
       "    <tr>\n",
       "      <th>3</th>\n",
       "      <td>0.010710</td>\n",
       "      <td>-0.248497</td>\n",
       "      <td>-1.207962</td>\n",
       "      <td>-0.893927</td>\n",
       "      <td>-0.650340</td>\n",
       "      <td>-0.496666</td>\n",
       "      <td>-0.366317</td>\n",
       "      <td>0.0</td>\n",
       "      <td>0.208115</td>\n",
       "      <td>-0.221837</td>\n",
       "      <td>-1.038219</td>\n",
       "      <td>0.0</td>\n",
       "      <td>0.0</td>\n",
       "      <td>0.854173</td>\n",
       "    </tr>\n",
       "    <tr>\n",
       "      <th>4</th>\n",
       "      <td>0.011067</td>\n",
       "      <td>-0.234055</td>\n",
       "      <td>-1.375674</td>\n",
       "      <td>-1.224713</td>\n",
       "      <td>-0.368578</td>\n",
       "      <td>0.063190</td>\n",
       "      <td>0.282600</td>\n",
       "      <td>0.0</td>\n",
       "      <td>0.208115</td>\n",
       "      <td>-0.221837</td>\n",
       "      <td>-1.017179</td>\n",
       "      <td>0.0</td>\n",
       "      <td>0.0</td>\n",
       "      <td>0.863237</td>\n",
       "    </tr>\n",
       "    <tr>\n",
       "      <th>...</th>\n",
       "      <td>...</td>\n",
       "      <td>...</td>\n",
       "      <td>...</td>\n",
       "      <td>...</td>\n",
       "      <td>...</td>\n",
       "      <td>...</td>\n",
       "      <td>...</td>\n",
       "      <td>...</td>\n",
       "      <td>...</td>\n",
       "      <td>...</td>\n",
       "      <td>...</td>\n",
       "      <td>...</td>\n",
       "      <td>...</td>\n",
       "      <td>...</td>\n",
       "    </tr>\n",
       "    <tr>\n",
       "      <th>8693</th>\n",
       "      <td>-1.407319</td>\n",
       "      <td>1.355869</td>\n",
       "      <td>-1.182009</td>\n",
       "      <td>-1.441217</td>\n",
       "      <td>-1.631721</td>\n",
       "      <td>-1.756297</td>\n",
       "      <td>-1.884965</td>\n",
       "      <td>0.0</td>\n",
       "      <td>-0.382213</td>\n",
       "      <td>-0.942415</td>\n",
       "      <td>0.263281</td>\n",
       "      <td>0.0</td>\n",
       "      <td>0.0</td>\n",
       "      <td>-0.427184</td>\n",
       "    </tr>\n",
       "    <tr>\n",
       "      <th>8694</th>\n",
       "      <td>-1.409467</td>\n",
       "      <td>1.355930</td>\n",
       "      <td>0.040257</td>\n",
       "      <td>0.074713</td>\n",
       "      <td>0.125008</td>\n",
       "      <td>0.187724</td>\n",
       "      <td>0.185565</td>\n",
       "      <td>0.0</td>\n",
       "      <td>-0.382213</td>\n",
       "      <td>-0.942415</td>\n",
       "      <td>-0.305583</td>\n",
       "      <td>0.0</td>\n",
       "      <td>0.0</td>\n",
       "      <td>-0.443451</td>\n",
       "    </tr>\n",
       "    <tr>\n",
       "      <th>8695</th>\n",
       "      <td>-1.409735</td>\n",
       "      <td>1.357316</td>\n",
       "      <td>-0.707799</td>\n",
       "      <td>0.035609</td>\n",
       "      <td>0.295543</td>\n",
       "      <td>0.220298</td>\n",
       "      <td>0.359568</td>\n",
       "      <td>0.0</td>\n",
       "      <td>-0.382213</td>\n",
       "      <td>-0.935308</td>\n",
       "      <td>1.114500</td>\n",
       "      <td>0.0</td>\n",
       "      <td>0.0</td>\n",
       "      <td>-0.542112</td>\n",
       "    </tr>\n",
       "    <tr>\n",
       "      <th>8696</th>\n",
       "      <td>-1.405283</td>\n",
       "      <td>1.358175</td>\n",
       "      <td>0.147510</td>\n",
       "      <td>0.639710</td>\n",
       "      <td>0.782301</td>\n",
       "      <td>0.844030</td>\n",
       "      <td>0.750635</td>\n",
       "      <td>0.0</td>\n",
       "      <td>-0.382213</td>\n",
       "      <td>-0.928211</td>\n",
       "      <td>-0.640316</td>\n",
       "      <td>0.0</td>\n",
       "      <td>0.0</td>\n",
       "      <td>-0.536582</td>\n",
       "    </tr>\n",
       "    <tr>\n",
       "      <th>8697</th>\n",
       "      <td>-1.400391</td>\n",
       "      <td>1.358723</td>\n",
       "      <td>0.892812</td>\n",
       "      <td>-0.037142</td>\n",
       "      <td>-0.504412</td>\n",
       "      <td>-0.641146</td>\n",
       "      <td>-0.741197</td>\n",
       "      <td>0.0</td>\n",
       "      <td>-0.382213</td>\n",
       "      <td>-0.928211</td>\n",
       "      <td>1.121102</td>\n",
       "      <td>0.0</td>\n",
       "      <td>0.0</td>\n",
       "      <td>-0.514520</td>\n",
       "    </tr>\n",
       "  </tbody>\n",
       "</table>\n",
       "<p>8698 rows × 14 columns</p>\n",
       "</div>"
      ],
      "text/plain": [
       "            ra       dec         u         g         r         i         z  \\\n",
       "0     0.001237 -0.237529  1.340596 -0.426148 -0.864860 -0.969233 -1.009719   \n",
       "1     0.003109 -0.225365 -0.198535 -0.230384 -0.123887 -0.000771  0.081991   \n",
       "2     0.005394 -0.227760  1.128278  1.028634  0.720385  0.578911  0.451008   \n",
       "3     0.010710 -0.248497 -1.207962 -0.893927 -0.650340 -0.496666 -0.366317   \n",
       "4     0.011067 -0.234055 -1.375674 -1.224713 -0.368578  0.063190  0.282600   \n",
       "...        ...       ...       ...       ...       ...       ...       ...   \n",
       "8693 -1.407319  1.355869 -1.182009 -1.441217 -1.631721 -1.756297 -1.884965   \n",
       "8694 -1.409467  1.355930  0.040257  0.074713  0.125008  0.187724  0.185565   \n",
       "8695 -1.409735  1.357316 -0.707799  0.035609  0.295543  0.220298  0.359568   \n",
       "8696 -1.405283  1.358175  0.147510  0.639710  0.782301  0.844030  0.750635   \n",
       "8697 -1.400391  1.358723  0.892812 -0.037142 -0.504412 -0.641146 -0.741197   \n",
       "\n",
       "      run    camcol     field  redshift  plate  mjd   fiberid  \n",
       "0     0.0  0.208115 -0.234478 -1.035159    0.0  0.0  0.767618  \n",
       "1     0.0  0.208115 -0.234478 -1.036542    0.0  0.0  0.993703  \n",
       "2     0.0  0.208115 -0.228155  1.168047    0.0  0.0  0.867766  \n",
       "3     0.0  0.208115 -0.221837 -1.038219    0.0  0.0  0.854173  \n",
       "4     0.0  0.208115 -0.221837 -1.017179    0.0  0.0  0.863237  \n",
       "...   ...       ...       ...       ...    ...  ...       ...  \n",
       "8693  0.0 -0.382213 -0.942415  0.263281    0.0  0.0 -0.427184  \n",
       "8694  0.0 -0.382213 -0.942415 -0.305583    0.0  0.0 -0.443451  \n",
       "8695  0.0 -0.382213 -0.935308  1.114500    0.0  0.0 -0.542112  \n",
       "8696  0.0 -0.382213 -0.928211 -0.640316    0.0  0.0 -0.536582  \n",
       "8697  0.0 -0.382213 -0.928211  1.121102    0.0  0.0 -0.514520  \n",
       "\n",
       "[8698 rows x 14 columns]"
      ]
     },
     "execution_count": 53,
     "metadata": {},
     "output_type": "execute_result"
    }
   ],
   "source": [
    "x"
   ]
  },
  {
   "cell_type": "code",
   "execution_count": 68,
   "metadata": {},
   "outputs": [],
   "source": [
    "import sklearn\n",
    "from sklearn.model_selection import train_test_split\n",
    "from sklearn.naive_bayes import GaussianNB\n",
    "from sklearn.tree import DecisionTreeClassifier\n",
    "from sklearn.neighbors import KNeighborsClassifier\n",
    "from sklearn import svm\n",
    "from sklearn.svm import SVC\n",
    "from sklearn.model_selection import cross_val_score\n",
    "from sklearn.metrics import classification_report,confusion_matrix,accuracy_score"
   ]
  },
  {
   "cell_type": "code",
   "execution_count": 55,
   "metadata": {},
   "outputs": [],
   "source": [
    "def ac(cls,x,y):\n",
    "    max_acc_score=0\n",
    "    for r_state in range(42,101):\n",
    "        x_train,x_test,y_train,y_test=train_test_split(x,y,random_state=r_state,test_size=0.20)\n",
    "        cls.fit(x_train,y_train)\n",
    "        pred=cls.predict(x_test)\n",
    "        acc_score=accuracy_score(pred,y_test)\n",
    "        print('Accuracy Score Is',acc_score,'At Random State',r_state)\n",
    "        \n",
    "        if acc_score>max_acc_score:\n",
    "            max_acc_score=acc_score\n",
    "            final_r_state=r_state\n",
    "    \n",
    "    print('\\n')\n",
    "    print('Max Accuracy Score is',max_acc_score,'At Random State',final_r_state)\n",
    "    return final_r_state        "
   ]
  },
  {
   "cell_type": "code",
   "execution_count": 56,
   "metadata": {},
   "outputs": [
    {
     "name": "stdout",
     "output_type": "stream",
     "text": [
      "Accuracy Score Is 0.9816091954022989 At Random State 42\n",
      "Accuracy Score Is 0.9781609195402299 At Random State 43\n",
      "Accuracy Score Is 0.9862068965517241 At Random State 44\n",
      "Accuracy Score Is 0.985632183908046 At Random State 45\n",
      "Accuracy Score Is 0.985632183908046 At Random State 46\n",
      "Accuracy Score Is 0.9850574712643678 At Random State 47\n",
      "Accuracy Score Is 0.978735632183908 At Random State 48\n",
      "Accuracy Score Is 0.9844827586206897 At Random State 49\n",
      "Accuracy Score Is 0.9793103448275862 At Random State 50\n",
      "Accuracy Score Is 0.9770114942528736 At Random State 51\n",
      "Accuracy Score Is 0.9804597701149426 At Random State 52\n",
      "Accuracy Score Is 0.978735632183908 At Random State 53\n",
      "Accuracy Score Is 0.9804597701149426 At Random State 54\n",
      "Accuracy Score Is 0.9804597701149426 At Random State 55\n",
      "Accuracy Score Is 0.9839080459770115 At Random State 56\n",
      "Accuracy Score Is 0.9827586206896551 At Random State 57\n",
      "Accuracy Score Is 0.9867816091954023 At Random State 58\n",
      "Accuracy Score Is 0.9862068965517241 At Random State 59\n",
      "Accuracy Score Is 0.9775862068965517 At Random State 60\n",
      "Accuracy Score Is 0.9844827586206897 At Random State 61\n",
      "Accuracy Score Is 0.9850574712643678 At Random State 62\n",
      "Accuracy Score Is 0.9781609195402299 At Random State 63\n",
      "Accuracy Score Is 0.9839080459770115 At Random State 64\n",
      "Accuracy Score Is 0.9798850574712644 At Random State 65\n",
      "Accuracy Score Is 0.9873563218390805 At Random State 66\n",
      "Accuracy Score Is 0.982183908045977 At Random State 67\n",
      "Accuracy Score Is 0.9850574712643678 At Random State 68\n",
      "Accuracy Score Is 0.9798850574712644 At Random State 69\n",
      "Accuracy Score Is 0.9885057471264368 At Random State 70\n",
      "Accuracy Score Is 0.978735632183908 At Random State 71\n",
      "Accuracy Score Is 0.9816091954022989 At Random State 72\n",
      "Accuracy Score Is 0.9804597701149426 At Random State 73\n",
      "Accuracy Score Is 0.9781609195402299 At Random State 74\n",
      "Accuracy Score Is 0.9816091954022989 At Random State 75\n",
      "Accuracy Score Is 0.9827586206896551 At Random State 76\n",
      "Accuracy Score Is 0.9850574712643678 At Random State 77\n",
      "Accuracy Score Is 0.9867816091954023 At Random State 78\n",
      "Accuracy Score Is 0.9798850574712644 At Random State 79\n",
      "Accuracy Score Is 0.9770114942528736 At Random State 80\n",
      "Accuracy Score Is 0.9793103448275862 At Random State 81\n",
      "Accuracy Score Is 0.9781609195402299 At Random State 82\n",
      "Accuracy Score Is 0.9873563218390805 At Random State 83\n",
      "Accuracy Score Is 0.9850574712643678 At Random State 84\n",
      "Accuracy Score Is 0.9873563218390805 At Random State 85\n",
      "Accuracy Score Is 0.982183908045977 At Random State 86\n",
      "Accuracy Score Is 0.9816091954022989 At Random State 87\n",
      "Accuracy Score Is 0.9827586206896551 At Random State 88\n",
      "Accuracy Score Is 0.9804597701149426 At Random State 89\n",
      "Accuracy Score Is 0.9810344827586207 At Random State 90\n",
      "Accuracy Score Is 0.9844827586206897 At Random State 91\n",
      "Accuracy Score Is 0.985632183908046 At Random State 92\n",
      "Accuracy Score Is 0.9798850574712644 At Random State 93\n",
      "Accuracy Score Is 0.9810344827586207 At Random State 94\n",
      "Accuracy Score Is 0.9885057471264368 At Random State 95\n",
      "Accuracy Score Is 0.9879310344827587 At Random State 96\n",
      "Accuracy Score Is 0.985632183908046 At Random State 97\n",
      "Accuracy Score Is 0.9844827586206897 At Random State 98\n",
      "Accuracy Score Is 0.9804597701149426 At Random State 99\n",
      "Accuracy Score Is 0.9850574712643678 At Random State 100\n",
      "\n",
      "\n",
      "Max Accuracy Score is 0.9885057471264368 At Random State 70\n"
     ]
    }
   ],
   "source": [
    "m=GaussianNB()\n",
    "r_state=ac(m,x,y)"
   ]
  },
  {
   "cell_type": "code",
   "execution_count": 57,
   "metadata": {},
   "outputs": [],
   "source": [
    "x_train,x_test,y_train,y_test=train_test_split(x,y,random_state=70,test_size=0.20)"
   ]
  },
  {
   "cell_type": "code",
   "execution_count": 58,
   "metadata": {},
   "outputs": [],
   "source": [
    "from sklearn.model_selection import GridSearchCV"
   ]
  },
  {
   "cell_type": "code",
   "execution_count": 59,
   "metadata": {},
   "outputs": [],
   "source": [
    "def g(cls):\n",
    "    g=GridSearchCV(cls,parameters,cv=10)\n",
    "    g.fit(x_train,y_train)\n",
    "    g.best_params_\n",
    "    return g.best_params_"
   ]
  },
  {
   "cell_type": "code",
   "execution_count": 60,
   "metadata": {},
   "outputs": [
    {
     "data": {
      "text/plain": [
       "{'criterion': 'entropy'}"
      ]
     },
     "execution_count": 60,
     "metadata": {},
     "output_type": "execute_result"
    }
   ],
   "source": [
    "dtc=DecisionTreeClassifier()\n",
    "parameters={'criterion':['gini','entropy']}\n",
    "g(dtc)"
   ]
  },
  {
   "cell_type": "code",
   "execution_count": 61,
   "metadata": {},
   "outputs": [
    {
     "data": {
      "text/plain": [
       "{'n_neighbors': 3}"
      ]
     },
     "execution_count": 61,
     "metadata": {},
     "output_type": "execute_result"
    }
   ],
   "source": [
    "knc=KNeighborsClassifier()\n",
    "parameters={'n_neighbors':range(1,19)}\n",
    "g(knc)"
   ]
  },
  {
   "cell_type": "code",
   "execution_count": 62,
   "metadata": {},
   "outputs": [
    {
     "data": {
      "text/plain": [
       "{'kernel': 'linear'}"
      ]
     },
     "execution_count": 62,
     "metadata": {},
     "output_type": "execute_result"
    }
   ],
   "source": [
    "svc=SVC()\n",
    "parameters={'kernel':['poly','rbf','linear']}\n",
    "g(svc)"
   ]
  },
  {
   "cell_type": "code",
   "execution_count": 63,
   "metadata": {},
   "outputs": [],
   "source": [
    "svc=SVC(kernel='linear')\n",
    "knc=KNeighborsClassifier(n_neighbors=3)\n",
    "dtc=DecisionTreeClassifier(criterion='entropy')"
   ]
  },
  {
   "cell_type": "code",
   "execution_count": 64,
   "metadata": {},
   "outputs": [
    {
     "name": "stdout",
     "output_type": "stream",
     "text": [
      "*********** GaussianNB() ************\n",
      "Accuracy Score is 0.9885057471264368\n",
      "[[907   9   1]\n",
      " [ 10  77   0]\n",
      " [  0   0 736]]\n",
      "Cross Value Score Is 0.9829850667301564\n",
      "\n",
      "\n",
      "*********** DecisionTreeClassifier(criterion='entropy') ************\n",
      "Accuracy Score is 0.9827586206896551\n",
      "[[903  13   3]\n",
      " [ 14  73   0]\n",
      " [  0   0 734]]\n",
      "Cross Value Score Is 0.9851692393159001\n",
      "\n",
      "\n",
      "*********** KNeighborsClassifier(n_neighbors=3) ************\n",
      "Accuracy Score is 0.964367816091954\n",
      "[[885  14  16]\n",
      " [  2  72   0]\n",
      " [ 30   0 721]]\n",
      "Cross Value Score Is 0.9586111662235626\n",
      "\n",
      "\n",
      "*********** SVC(kernel='linear') ************\n",
      "Accuracy Score is 0.9936781609195402\n",
      "[[913   7   0]\n",
      " [  2  79   0]\n",
      " [  2   0 737]]\n",
      "Cross Value Score Is 0.9891934182505986\n",
      "\n",
      "\n"
     ]
    }
   ],
   "source": [
    "model=[]\n",
    "cvscore=[]\n",
    "accscore=[]\n",
    "\n",
    "M=[m,dtc,knc,svc]\n",
    "\n",
    "for i in M:\n",
    "    i.fit(x_train,y_train)\n",
    "    pred=i.predict(x_test)\n",
    "    print('***********',i,'************')\n",
    "    model.append(M)\n",
    "    \n",
    "    acc_score=accuracy_score(pred,y_test)\n",
    "    print('Accuracy Score is',acc_score)\n",
    "    accscore.append(acc_score)\n",
    "    \n",
    "    cm=confusion_matrix(pred,y_test)\n",
    "    print(cm)\n",
    "    \n",
    "    cv=cross_val_score(i,x,y,scoring='accuracy',cv=10).mean()\n",
    "    cvscore.append(cv)\n",
    "   \n",
    "    print('Cross Value Score Is',cv)\n",
    "    print('\\n')"
   ]
  },
  {
   "cell_type": "code",
   "execution_count": 65,
   "metadata": {},
   "outputs": [],
   "source": [
    "Final=pd.DataFrame({'Model':M,'CV Score':cvscore,'Accuracy Score':accscore})"
   ]
  },
  {
   "cell_type": "code",
   "execution_count": 66,
   "metadata": {},
   "outputs": [
    {
     "data": {
      "text/html": [
       "<div>\n",
       "<style scoped>\n",
       "    .dataframe tbody tr th:only-of-type {\n",
       "        vertical-align: middle;\n",
       "    }\n",
       "\n",
       "    .dataframe tbody tr th {\n",
       "        vertical-align: top;\n",
       "    }\n",
       "\n",
       "    .dataframe thead th {\n",
       "        text-align: right;\n",
       "    }\n",
       "</style>\n",
       "<table border=\"1\" class=\"dataframe\">\n",
       "  <thead>\n",
       "    <tr style=\"text-align: right;\">\n",
       "      <th></th>\n",
       "      <th>Model</th>\n",
       "      <th>CV Score</th>\n",
       "      <th>Accuracy Score</th>\n",
       "    </tr>\n",
       "  </thead>\n",
       "  <tbody>\n",
       "    <tr>\n",
       "      <th>0</th>\n",
       "      <td>GaussianNB()</td>\n",
       "      <td>0.982985</td>\n",
       "      <td>0.988506</td>\n",
       "    </tr>\n",
       "    <tr>\n",
       "      <th>1</th>\n",
       "      <td>DecisionTreeClassifier(criterion='entropy')</td>\n",
       "      <td>0.985169</td>\n",
       "      <td>0.982759</td>\n",
       "    </tr>\n",
       "    <tr>\n",
       "      <th>2</th>\n",
       "      <td>KNeighborsClassifier(n_neighbors=3)</td>\n",
       "      <td>0.958611</td>\n",
       "      <td>0.964368</td>\n",
       "    </tr>\n",
       "    <tr>\n",
       "      <th>3</th>\n",
       "      <td>SVC(kernel='linear')</td>\n",
       "      <td>0.989193</td>\n",
       "      <td>0.993678</td>\n",
       "    </tr>\n",
       "  </tbody>\n",
       "</table>\n",
       "</div>"
      ],
      "text/plain": [
       "                                         Model  CV Score  Accuracy Score\n",
       "0                                 GaussianNB()  0.982985        0.988506\n",
       "1  DecisionTreeClassifier(criterion='entropy')  0.985169        0.982759\n",
       "2          KNeighborsClassifier(n_neighbors=3)  0.958611        0.964368\n",
       "3                         SVC(kernel='linear')  0.989193        0.993678"
      ]
     },
     "execution_count": 66,
     "metadata": {},
     "output_type": "execute_result"
    }
   ],
   "source": [
    "Final"
   ]
  },
  {
   "cell_type": "code",
   "execution_count": 67,
   "metadata": {},
   "outputs": [
    {
     "data": {
      "text/plain": [
       "['svc.obj']"
      ]
     },
     "execution_count": 67,
     "metadata": {},
     "output_type": "execute_result"
    }
   ],
   "source": [
    "import joblib\n",
    "joblib.dump(SVC,'svc.obj')"
   ]
  },
  {
   "cell_type": "code",
   "execution_count": null,
   "metadata": {},
   "outputs": [],
   "source": []
  }
 ],
 "metadata": {
  "kernelspec": {
   "display_name": "Python 3",
   "language": "python",
   "name": "python3"
  },
  "language_info": {
   "codemirror_mode": {
    "name": "ipython",
    "version": 3
   },
   "file_extension": ".py",
   "mimetype": "text/x-python",
   "name": "python",
   "nbconvert_exporter": "python",
   "pygments_lexer": "ipython3",
   "version": "3.8.3"
  }
 },
 "nbformat": 4,
 "nbformat_minor": 4
}
